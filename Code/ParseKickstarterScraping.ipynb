{
 "cells": [
  {
   "cell_type": "code",
   "execution_count": 1,
   "metadata": {
    "ExecuteTime": {
     "end_time": "2019-12-08T02:09:18.453015Z",
     "start_time": "2019-12-08T02:09:17.336764Z"
    }
   },
   "outputs": [],
   "source": [
    "import pandas as pd, numpy as np, re\n",
    "import matplotlib.pyplot as plt\n",
    "import glob\n",
    "from datetime import datetime, date\n",
    "import json\n",
    "import seaborn as sns"
   ]
  },
  {
   "cell_type": "markdown",
   "metadata": {},
   "source": [
    "## Description Text File"
   ]
  },
  {
   "cell_type": "code",
   "execution_count": 2,
   "metadata": {
    "ExecuteTime": {
     "end_time": "2019-12-08T02:09:38.536781Z",
     "start_time": "2019-12-08T02:09:38.531420Z"
    }
   },
   "outputs": [
    {
     "data": {
      "text/plain": [
       "['Analysis/project_description_0_500.txt',\n",
       " 'Analysis/project_description_10000_10500.txt',\n",
       " 'Analysis/project_description_1000_1500.txt',\n",
       " 'Analysis/project_description_10500_11000.txt',\n",
       " 'Analysis/project_description_11000_11500.txt',\n",
       " 'Analysis/project_description_11500_12000.txt',\n",
       " 'Analysis/project_description_12000_12032.txt',\n",
       " 'Analysis/project_description_1500_2000.txt',\n",
       " 'Analysis/project_description_2000_2500.txt',\n",
       " 'Analysis/project_description_2500_3000.txt',\n",
       " 'Analysis/project_description_3000_3500.txt',\n",
       " 'Analysis/project_description_3500_4000.txt',\n",
       " 'Analysis/project_description_4000_4500.txt',\n",
       " 'Analysis/project_description_4500_5000.txt',\n",
       " 'Analysis/project_description_5000_5500.txt',\n",
       " 'Analysis/project_description_500_1000.txt',\n",
       " 'Analysis/project_description_5500_6000.txt',\n",
       " 'Analysis/project_description_6000_6500.txt',\n",
       " 'Analysis/project_description_6500_7000.txt',\n",
       " 'Analysis/project_description_7000_7500.txt',\n",
       " 'Analysis/project_description_7500_8000.txt',\n",
       " 'Analysis/project_description_8000_8500.txt',\n",
       " 'Analysis/project_description_8500_9000.txt',\n",
       " 'Analysis/project_description_9000_9500.txt',\n",
       " 'Analysis/project_description_9500_10000.txt']"
      ]
     },
     "execution_count": 2,
     "metadata": {},
     "output_type": "execute_result"
    }
   ],
   "source": [
    "path = \"Analysis/*.txt\"\n",
    "txtfiles = glob.glob(path)\n",
    "sorted(txtfiles)"
   ]
  },
  {
   "cell_type": "code",
   "execution_count": 3,
   "metadata": {
    "ExecuteTime": {
     "end_time": "2019-12-08T02:09:38.917648Z",
     "start_time": "2019-12-08T02:09:38.914380Z"
    }
   },
   "outputs": [],
   "source": [
    "num = [int(i) for i in np.linspace(0, 11500, 24)]\n",
    "numfile = [[str(i), str(i+500)] for i in num] + [['12000', '12032']]"
   ]
  },
  {
   "cell_type": "code",
   "execution_count": 4,
   "metadata": {
    "ExecuteTime": {
     "end_time": "2019-12-08T02:09:39.267106Z",
     "start_time": "2019-12-08T02:09:39.264475Z"
    }
   },
   "outputs": [],
   "source": [
    "txtfiles = []\n",
    "for i in numfile:\n",
    "    txtfiles.append('Analysis/project_description_'+i[0]+'_'+i[1]+'.txt')"
   ]
  },
  {
   "cell_type": "code",
   "execution_count": 5,
   "metadata": {
    "ExecuteTime": {
     "end_time": "2019-12-08T02:09:39.813997Z",
     "start_time": "2019-12-08T02:09:39.644761Z"
    }
   },
   "outputs": [],
   "source": [
    "text = ''\n",
    "for name in txtfiles:\n",
    "    with open(name) as file:\n",
    "        for line in file:\n",
    "            text = text + line"
   ]
  },
  {
   "cell_type": "code",
   "execution_count": 6,
   "metadata": {
    "ExecuteTime": {
     "end_time": "2019-12-08T02:09:40.457534Z",
     "start_time": "2019-12-08T02:09:40.003084Z"
    }
   },
   "outputs": [],
   "source": [
    "new_text = re.split(\"([0-9]+\\|)\", text)"
   ]
  },
  {
   "cell_type": "code",
   "execution_count": 7,
   "metadata": {
    "ExecuteTime": {
     "end_time": "2019-12-08T02:09:40.625062Z",
     "start_time": "2019-12-08T02:09:40.622514Z"
    }
   },
   "outputs": [],
   "source": [
    "new_text = new_text[1:]"
   ]
  },
  {
   "cell_type": "code",
   "execution_count": 8,
   "metadata": {
    "ExecuteTime": {
     "end_time": "2019-12-08T02:09:41.212039Z",
     "start_time": "2019-12-08T02:09:40.820226Z"
    }
   },
   "outputs": [],
   "source": [
    "index = [ele.strip(\"|\") for ele in new_text if re.findall(r\"[0-9]+\\|\", ele) != []]"
   ]
  },
  {
   "cell_type": "code",
   "execution_count": 9,
   "metadata": {
    "ExecuteTime": {
     "end_time": "2019-12-08T02:09:41.412761Z",
     "start_time": "2019-12-08T02:09:41.399632Z"
    }
   },
   "outputs": [],
   "source": [
    "twoDarray = []\n",
    "number = [i for i in range(len(new_text)) if i % 2 == 0]\n",
    "for n in number:\n",
    "    twoDarray.append([int(new_text[n].strip(\"|\")), new_text[n+1]])"
   ]
  },
  {
   "cell_type": "code",
   "execution_count": 10,
   "metadata": {
    "ExecuteTime": {
     "end_time": "2019-12-08T02:09:41.820577Z",
     "start_time": "2019-12-08T02:09:41.813625Z"
    }
   },
   "outputs": [
    {
     "data": {
      "text/plain": [
       "12032"
      ]
     },
     "execution_count": 10,
     "metadata": {},
     "output_type": "execute_result"
    }
   ],
   "source": [
    "set([int(i) for i in index]).__len__()"
   ]
  },
  {
   "cell_type": "code",
   "execution_count": 11,
   "metadata": {
    "ExecuteTime": {
     "end_time": "2019-12-08T02:09:42.198219Z",
     "start_time": "2019-12-08T02:09:42.190027Z"
    }
   },
   "outputs": [],
   "source": [
    "table = pd.DataFrame(twoDarray, columns = [\"Index\", \"Description\"])"
   ]
  },
  {
   "cell_type": "code",
   "execution_count": 12,
   "metadata": {
    "ExecuteTime": {
     "end_time": "2019-12-08T02:09:42.599583Z",
     "start_time": "2019-12-08T02:09:42.591654Z"
    }
   },
   "outputs": [
    {
     "data": {
      "text/html": [
       "<div>\n",
       "<style scoped>\n",
       "    .dataframe tbody tr th:only-of-type {\n",
       "        vertical-align: middle;\n",
       "    }\n",
       "\n",
       "    .dataframe tbody tr th {\n",
       "        vertical-align: top;\n",
       "    }\n",
       "\n",
       "    .dataframe thead th {\n",
       "        text-align: right;\n",
       "    }\n",
       "</style>\n",
       "<table border=\"1\" class=\"dataframe\">\n",
       "  <thead>\n",
       "    <tr style=\"text-align: right;\">\n",
       "      <th></th>\n",
       "      <th>Index</th>\n",
       "      <th>Description</th>\n",
       "    </tr>\n",
       "  </thead>\n",
       "  <tbody>\n",
       "    <tr>\n",
       "      <th>1378</th>\n",
       "      <td>4</td>\n",
       "      <td>1TB HDD | 240GB SSD | Windows 10 Home 64-bit ...</td>\n",
       "    </tr>\n",
       "    <tr>\n",
       "      <th>5526</th>\n",
       "      <td>0</td>\n",
       "      <td>, True Quick Detach System, Made in the USAPro...</td>\n",
       "    </tr>\n",
       "    <tr>\n",
       "      <th>5527</th>\n",
       "      <td>0</td>\n",
       "      <td>AR15 TacticalWhen seconds countWe know what's...</td>\n",
       "    </tr>\n",
       "    <tr>\n",
       "      <th>9492</th>\n",
       "      <td>18</td>\n",
       "      <td>1 Apr. 18- Start App Development (Adap) •\\t1 ...</td>\n",
       "    </tr>\n",
       "  </tbody>\n",
       "</table>\n",
       "</div>"
      ],
      "text/plain": [
       "      Index                                        Description\n",
       "1378      4   1TB HDD | 240GB SSD | Windows 10 Home 64-bit ...\n",
       "5526      0  , True Quick Detach System, Made in the USAPro...\n",
       "5527      0   AR15 TacticalWhen seconds countWe know what's...\n",
       "9492     18   1 Apr. 18- Start App Development (Adap) •\\t1 ..."
      ]
     },
     "execution_count": 12,
     "metadata": {},
     "output_type": "execute_result"
    }
   ],
   "source": [
    "table[table[\"Index\"].duplicated()]"
   ]
  },
  {
   "cell_type": "markdown",
   "metadata": {},
   "source": [
    "### Find one index befind or after the duplicated index"
   ]
  },
  {
   "cell_type": "code",
   "execution_count": 13,
   "metadata": {
    "ExecuteTime": {
     "end_time": "2019-12-08T02:09:43.070633Z",
     "start_time": "2019-12-08T02:09:43.064425Z"
    }
   },
   "outputs": [
    {
     "data": {
      "text/html": [
       "<div>\n",
       "<style scoped>\n",
       "    .dataframe tbody tr th:only-of-type {\n",
       "        vertical-align: middle;\n",
       "    }\n",
       "\n",
       "    .dataframe tbody tr th {\n",
       "        vertical-align: top;\n",
       "    }\n",
       "\n",
       "    .dataframe thead th {\n",
       "        text-align: right;\n",
       "    }\n",
       "</style>\n",
       "<table border=\"1\" class=\"dataframe\">\n",
       "  <thead>\n",
       "    <tr style=\"text-align: right;\">\n",
       "      <th></th>\n",
       "      <th>Index</th>\n",
       "      <th>Description</th>\n",
       "    </tr>\n",
       "  </thead>\n",
       "  <tbody>\n",
       "    <tr>\n",
       "      <th>5524</th>\n",
       "      <td>5523</td>\n",
       "      <td>A Classic Analog Subtractive Synthesis sou...</td>\n",
       "    </tr>\n",
       "    <tr>\n",
       "      <th>5525</th>\n",
       "      <td>5524</td>\n",
       "      <td>Protect your investment; your hunt and your ex...</td>\n",
       "    </tr>\n",
       "    <tr>\n",
       "      <th>5526</th>\n",
       "      <td>0</td>\n",
       "      <td>, True Quick Detach System, Made in the USAPro...</td>\n",
       "    </tr>\n",
       "    <tr>\n",
       "      <th>5527</th>\n",
       "      <td>0</td>\n",
       "      <td>AR15 TacticalWhen seconds countWe know what's...</td>\n",
       "    </tr>\n",
       "    <tr>\n",
       "      <th>5528</th>\n",
       "      <td>5525</td>\n",
       "      <td>Faradeus is a flashlight, machined from aircra...</td>\n",
       "    </tr>\n",
       "  </tbody>\n",
       "</table>\n",
       "</div>"
      ],
      "text/plain": [
       "      Index                                        Description\n",
       "5524   5523      A Classic Analog Subtractive Synthesis sou...\n",
       "5525   5524  Protect your investment; your hunt and your ex...\n",
       "5526      0  , True Quick Detach System, Made in the USAPro...\n",
       "5527      0   AR15 TacticalWhen seconds countWe know what's...\n",
       "5528   5525  Faradeus is a flashlight, machined from aircra..."
      ]
     },
     "execution_count": 13,
     "metadata": {},
     "output_type": "execute_result"
    }
   ],
   "source": [
    "table.iloc[5524:5529, :]"
   ]
  },
  {
   "cell_type": "code",
   "execution_count": 14,
   "metadata": {
    "ExecuteTime": {
     "end_time": "2019-12-08T02:09:43.669832Z",
     "start_time": "2019-12-08T02:09:43.664113Z"
    }
   },
   "outputs": [],
   "source": [
    "table.iloc[5525, 1] = table.iloc[5525, 1] + str(table.iloc[5526, 0]) + '|' + table.iloc[5526, 1] + str(table.iloc[5527, 0]) + '|' + table.iloc[5527, 1]"
   ]
  },
  {
   "cell_type": "code",
   "execution_count": 15,
   "metadata": {
    "ExecuteTime": {
     "end_time": "2019-12-08T02:09:44.063193Z",
     "start_time": "2019-12-08T02:09:44.059262Z"
    }
   },
   "outputs": [],
   "source": [
    "table.drop([5526, 5527], axis = 0, inplace = True)\n",
    "table.reset_index(drop = True, inplace = True)"
   ]
  },
  {
   "cell_type": "markdown",
   "metadata": {
    "ExecuteTime": {
     "end_time": "2019-12-06T21:52:20.278045Z",
     "start_time": "2019-12-06T21:52:20.274495Z"
    }
   },
   "source": [
    "### Check rest of duplicated"
   ]
  },
  {
   "cell_type": "markdown",
   "metadata": {
    "ExecuteTime": {
     "end_time": "2019-12-06T21:54:21.261157Z",
     "start_time": "2019-12-06T21:54:21.259172Z"
    }
   },
   "source": [
    "#### Index 1378"
   ]
  },
  {
   "cell_type": "code",
   "execution_count": 16,
   "metadata": {
    "ExecuteTime": {
     "end_time": "2019-12-08T02:09:45.134837Z",
     "start_time": "2019-12-08T02:09:45.128128Z"
    }
   },
   "outputs": [
    {
     "data": {
      "text/html": [
       "<div>\n",
       "<style scoped>\n",
       "    .dataframe tbody tr th:only-of-type {\n",
       "        vertical-align: middle;\n",
       "    }\n",
       "\n",
       "    .dataframe tbody tr th {\n",
       "        vertical-align: top;\n",
       "    }\n",
       "\n",
       "    .dataframe thead th {\n",
       "        text-align: right;\n",
       "    }\n",
       "</style>\n",
       "<table border=\"1\" class=\"dataframe\">\n",
       "  <thead>\n",
       "    <tr style=\"text-align: right;\">\n",
       "      <th></th>\n",
       "      <th>Index</th>\n",
       "      <th>Description</th>\n",
       "    </tr>\n",
       "  </thead>\n",
       "  <tbody>\n",
       "    <tr>\n",
       "      <th>1378</th>\n",
       "      <td>4</td>\n",
       "      <td>1TB HDD | 240GB SSD | Windows 10 Home 64-bit ...</td>\n",
       "    </tr>\n",
       "    <tr>\n",
       "      <th>9490</th>\n",
       "      <td>18</td>\n",
       "      <td>1 Apr. 18- Start App Development (Adap) •\\t1 ...</td>\n",
       "    </tr>\n",
       "  </tbody>\n",
       "</table>\n",
       "</div>"
      ],
      "text/plain": [
       "      Index                                        Description\n",
       "1378      4   1TB HDD | 240GB SSD | Windows 10 Home 64-bit ...\n",
       "9490     18   1 Apr. 18- Start App Development (Adap) •\\t1 ..."
      ]
     },
     "execution_count": 16,
     "metadata": {},
     "output_type": "execute_result"
    }
   ],
   "source": [
    "table[table[\"Index\"].duplicated()]"
   ]
  },
  {
   "cell_type": "code",
   "execution_count": 17,
   "metadata": {
    "ExecuteTime": {
     "end_time": "2019-12-08T02:09:45.723697Z",
     "start_time": "2019-12-08T02:09:45.717968Z"
    }
   },
   "outputs": [],
   "source": [
    "table.iloc[1377, 1] = table.iloc[1377, 1] + str(table.iloc[1378, 0]) + ' |' + table.iloc[1378, 1]\n"
   ]
  },
  {
   "cell_type": "code",
   "execution_count": 18,
   "metadata": {
    "ExecuteTime": {
     "end_time": "2019-12-08T02:09:46.277324Z",
     "start_time": "2019-12-08T02:09:46.272428Z"
    }
   },
   "outputs": [],
   "source": [
    "table.drop(1378, axis = 0, inplace = True)\n",
    "table.reset_index(drop = True, inplace = True)"
   ]
  },
  {
   "cell_type": "markdown",
   "metadata": {},
   "source": [
    "### Index 9492"
   ]
  },
  {
   "cell_type": "code",
   "execution_count": 19,
   "metadata": {
    "ExecuteTime": {
     "end_time": "2019-12-08T02:09:47.308779Z",
     "start_time": "2019-12-08T02:09:47.302001Z"
    }
   },
   "outputs": [
    {
     "data": {
      "text/html": [
       "<div>\n",
       "<style scoped>\n",
       "    .dataframe tbody tr th:only-of-type {\n",
       "        vertical-align: middle;\n",
       "    }\n",
       "\n",
       "    .dataframe tbody tr th {\n",
       "        vertical-align: top;\n",
       "    }\n",
       "\n",
       "    .dataframe thead th {\n",
       "        text-align: right;\n",
       "    }\n",
       "</style>\n",
       "<table border=\"1\" class=\"dataframe\">\n",
       "  <thead>\n",
       "    <tr style=\"text-align: right;\">\n",
       "      <th></th>\n",
       "      <th>Index</th>\n",
       "      <th>Description</th>\n",
       "    </tr>\n",
       "  </thead>\n",
       "  <tbody>\n",
       "    <tr>\n",
       "      <th>9489</th>\n",
       "      <td>18</td>\n",
       "      <td>1 Apr. 18- Start App Development (Adap) •\\t1 ...</td>\n",
       "    </tr>\n",
       "  </tbody>\n",
       "</table>\n",
       "</div>"
      ],
      "text/plain": [
       "      Index                                        Description\n",
       "9489     18   1 Apr. 18- Start App Development (Adap) •\\t1 ..."
      ]
     },
     "execution_count": 19,
     "metadata": {},
     "output_type": "execute_result"
    }
   ],
   "source": [
    "table[table[\"Index\"].duplicated()]"
   ]
  },
  {
   "cell_type": "code",
   "execution_count": 20,
   "metadata": {
    "ExecuteTime": {
     "end_time": "2019-12-08T02:09:47.929545Z",
     "start_time": "2019-12-08T02:09:47.923259Z"
    }
   },
   "outputs": [
    {
     "data": {
      "text/html": [
       "<div>\n",
       "<style scoped>\n",
       "    .dataframe tbody tr th:only-of-type {\n",
       "        vertical-align: middle;\n",
       "    }\n",
       "\n",
       "    .dataframe tbody tr th {\n",
       "        vertical-align: top;\n",
       "    }\n",
       "\n",
       "    .dataframe thead th {\n",
       "        text-align: right;\n",
       "    }\n",
       "</style>\n",
       "<table border=\"1\" class=\"dataframe\">\n",
       "  <thead>\n",
       "    <tr style=\"text-align: right;\">\n",
       "      <th></th>\n",
       "      <th>Index</th>\n",
       "      <th>Description</th>\n",
       "    </tr>\n",
       "  </thead>\n",
       "  <tbody>\n",
       "    <tr>\n",
       "      <th>9488</th>\n",
       "      <td>9488</td>\n",
       "      <td>My wife Esraa and I were had a discussion a fe...</td>\n",
       "    </tr>\n",
       "    <tr>\n",
       "      <th>9489</th>\n",
       "      <td>18</td>\n",
       "      <td>1 Apr. 18- Start App Development (Adap) •\\t1 ...</td>\n",
       "    </tr>\n",
       "    <tr>\n",
       "      <th>9490</th>\n",
       "      <td>9489</td>\n",
       "      <td>\\n</td>\n",
       "    </tr>\n",
       "  </tbody>\n",
       "</table>\n",
       "</div>"
      ],
      "text/plain": [
       "      Index                                        Description\n",
       "9488   9488  My wife Esraa and I were had a discussion a fe...\n",
       "9489     18   1 Apr. 18- Start App Development (Adap) •\\t1 ...\n",
       "9490   9489                                                 \\n"
      ]
     },
     "execution_count": 20,
     "metadata": {},
     "output_type": "execute_result"
    }
   ],
   "source": [
    "table.loc[9488:9490, :]"
   ]
  },
  {
   "cell_type": "code",
   "execution_count": 21,
   "metadata": {
    "ExecuteTime": {
     "end_time": "2019-12-08T02:09:48.551668Z",
     "start_time": "2019-12-08T02:09:48.546374Z"
    }
   },
   "outputs": [],
   "source": [
    "table.iloc[9488, 1] = table.iloc[9488, 1] + str(table.iloc[9489, 0]) + '|' + table.iloc[9489, 1]"
   ]
  },
  {
   "cell_type": "code",
   "execution_count": 22,
   "metadata": {
    "ExecuteTime": {
     "end_time": "2019-12-08T02:09:48.965965Z",
     "start_time": "2019-12-08T02:09:48.961817Z"
    }
   },
   "outputs": [],
   "source": [
    "table.drop(9489, axis = 0, inplace = True)\n",
    "table.reset_index(drop = True, inplace = True)"
   ]
  },
  {
   "cell_type": "code",
   "execution_count": 23,
   "metadata": {
    "ExecuteTime": {
     "end_time": "2019-12-08T02:09:49.743142Z",
     "start_time": "2019-12-08T02:09:49.736724Z"
    }
   },
   "outputs": [
    {
     "data": {
      "text/html": [
       "<div>\n",
       "<style scoped>\n",
       "    .dataframe tbody tr th:only-of-type {\n",
       "        vertical-align: middle;\n",
       "    }\n",
       "\n",
       "    .dataframe tbody tr th {\n",
       "        vertical-align: top;\n",
       "    }\n",
       "\n",
       "    .dataframe thead th {\n",
       "        text-align: right;\n",
       "    }\n",
       "</style>\n",
       "<table border=\"1\" class=\"dataframe\">\n",
       "  <thead>\n",
       "    <tr style=\"text-align: right;\">\n",
       "      <th></th>\n",
       "      <th>Index</th>\n",
       "      <th>Description</th>\n",
       "    </tr>\n",
       "  </thead>\n",
       "  <tbody>\n",
       "    <tr>\n",
       "      <th>0</th>\n",
       "      <td>0</td>\n",
       "      <td>We want that in 'shareit.' You can share every...</td>\n",
       "    </tr>\n",
       "    <tr>\n",
       "      <th>1</th>\n",
       "      <td>1</td>\n",
       "      <td>Because it's fun:Baking contests have been aro...</td>\n",
       "    </tr>\n",
       "    <tr>\n",
       "      <th>2</th>\n",
       "      <td>2</td>\n",
       "      <td>Ask any artist what makes art both beautiful a...</td>\n",
       "    </tr>\n",
       "    <tr>\n",
       "      <th>3</th>\n",
       "      <td>3</td>\n",
       "      <td>We have internally discussed how we can show o...</td>\n",
       "    </tr>\n",
       "    <tr>\n",
       "      <th>4</th>\n",
       "      <td>4</td>\n",
       "      <td>JEDEYE is a stylish stereoscopic camera design...</td>\n",
       "    </tr>\n",
       "  </tbody>\n",
       "</table>\n",
       "</div>"
      ],
      "text/plain": [
       "   Index                                        Description\n",
       "0      0  We want that in 'shareit.' You can share every...\n",
       "1      1  Because it's fun:Baking contests have been aro...\n",
       "2      2  Ask any artist what makes art both beautiful a...\n",
       "3      3  We have internally discussed how we can show o...\n",
       "4      4  JEDEYE is a stylish stereoscopic camera design..."
      ]
     },
     "execution_count": 23,
     "metadata": {},
     "output_type": "execute_result"
    }
   ],
   "source": [
    "table.head()"
   ]
  },
  {
   "cell_type": "markdown",
   "metadata": {
    "ExecuteTime": {
     "end_time": "2019-12-08T01:58:29.248529Z",
     "start_time": "2019-12-08T01:58:29.246458Z"
    }
   },
   "source": [
    "## JSON"
   ]
  },
  {
   "cell_type": "code",
   "execution_count": 26,
   "metadata": {
    "ExecuteTime": {
     "end_time": "2019-12-08T02:12:12.658642Z",
     "start_time": "2019-12-08T02:12:12.564904Z"
    }
   },
   "outputs": [],
   "source": [
    "table.to_json(\"Description.json\", orient = \"records\")"
   ]
  },
  {
   "cell_type": "markdown",
   "metadata": {},
   "source": [
    "## Read CSV"
   ]
  },
  {
   "cell_type": "code",
   "execution_count": 160,
   "metadata": {
    "ExecuteTime": {
     "end_time": "2019-12-06T22:09:50.990381Z",
     "start_time": "2019-12-06T22:09:50.987054Z"
    }
   },
   "outputs": [
    {
     "data": {
      "text/plain": [
       "(12032, 2)"
      ]
     },
     "execution_count": 160,
     "metadata": {},
     "output_type": "execute_result"
    }
   ],
   "source": [
    "table.shape"
   ]
  },
  {
   "cell_type": "code",
   "execution_count": 212,
   "metadata": {
    "ExecuteTime": {
     "end_time": "2019-12-06T22:35:29.510324Z",
     "start_time": "2019-12-06T22:35:29.506295Z"
    }
   },
   "outputs": [],
   "source": [
    "num = [int(i) for i in np.linspace(0, 11500, 24)]\n",
    "numfile = [[str(i), str(i+500)] for i in num] + [['12000', '12032']]\n",
    "csvfiles = []\n",
    "for i in numfile:\n",
    "    csvfiles.append('Analysis/project_scraped_'+i[0]+'_'+i[1]+'.csv')"
   ]
  },
  {
   "cell_type": "code",
   "execution_count": 195,
   "metadata": {
    "ExecuteTime": {
     "end_time": "2019-12-06T22:26:40.487145Z",
     "start_time": "2019-12-06T22:26:38.665003Z"
    }
   },
   "outputs": [],
   "source": [
    "csv_data = []\n",
    "for name in csvfiles:\n",
    "    csv_data.append(pd.read_csv(name))"
   ]
  },
  {
   "cell_type": "code",
   "execution_count": 214,
   "metadata": {
    "ExecuteTime": {
     "end_time": "2019-12-06T22:36:35.077310Z",
     "start_time": "2019-12-06T22:36:34.994353Z"
    }
   },
   "outputs": [],
   "source": [
    "csv_table = pd.read_csv('Analysis/project_scraped_12000_12032.csv')"
   ]
  },
  {
   "cell_type": "code",
   "execution_count": 218,
   "metadata": {
    "ExecuteTime": {
     "end_time": "2019-12-06T22:38:07.449766Z",
     "start_time": "2019-12-06T22:38:07.446257Z"
    }
   },
   "outputs": [],
   "source": [
    "csv_table[\"Description\"] = table[\"Description\"]"
   ]
  },
  {
   "cell_type": "code",
   "execution_count": 222,
   "metadata": {
    "ExecuteTime": {
     "end_time": "2019-12-06T22:45:25.250609Z",
     "start_time": "2019-12-06T22:45:25.243049Z"
    }
   },
   "outputs": [],
   "source": [
    "csv_table[\"HasDescription\"] = [1 if i != \"\\n\" else 0 for i in csv_table[\"Description\"]]"
   ]
  },
  {
   "cell_type": "code",
   "execution_count": 237,
   "metadata": {
    "ExecuteTime": {
     "end_time": "2019-12-06T22:50:05.098256Z",
     "start_time": "2019-12-06T22:50:05.091893Z"
    }
   },
   "outputs": [
    {
     "data": {
      "text/plain": [
       "(6251, 22)"
      ]
     },
     "execution_count": 237,
     "metadata": {},
     "output_type": "execute_result"
    }
   ],
   "source": [
    "csv_table[csv_table[\"HasDescription\"] == 1].shape"
   ]
  },
  {
   "cell_type": "code",
   "execution_count": 239,
   "metadata": {
    "ExecuteTime": {
     "end_time": "2019-12-06T22:50:35.056665Z",
     "start_time": "2019-12-06T22:50:35.040996Z"
    }
   },
   "outputs": [
    {
     "data": {
      "text/plain": [
       "['https://www.kickstarter.com/projects/sandee/sandee-choose-your-beach?ref=discovery_category_newest',\n",
       " 'https://www.kickstarter.com/projects/680106154/vendordine?ref=discovery_category_newest',\n",
       " 'https://www.kickstarter.com/projects/polyshaper/polyshaper-oranje-high-precision-foam-cutting-mach?ref=discovery_category_newest',\n",
       " 'https://www.kickstarter.com/projects/445096737/youarenotalone?ref=discovery_category_newest',\n",
       " 'https://www.kickstarter.com/projects/707054749/pyduino-arduino-the-python-way?ref=discovery_category_newest',\n",
       " 'https://www.kickstarter.com/projects/donskotnicki/ettore-bikes-most-affordable-folding-ebike-on-eart?ref=discovery_category_newest',\n",
       " 'https://www.kickstarter.com/projects/minkisan/unity-a-content-creators-toolkit?ref=discovery_category_newest',\n",
       " 'https://www.kickstarter.com/projects/ibmirror/art-mirror-by-ibmirror?ref=discovery_category_newest',\n",
       " 'https://www.kickstarter.com/projects/121765932/openvr-walkinplace?ref=discovery_category_newest',\n",
       " 'https://www.kickstarter.com/projects/kinazium/kinazium?ref=discovery_category_newest',\n",
       " 'https://www.kickstarter.com/projects/bnbe/bbox-1-learn-electronics-the-practical-way?ref=discovery_category_newest',\n",
       " 'https://www.kickstarter.com/projects/716814860/legal-spiel-online-legal-networking-hub-for-the-le?ref=discovery_category_newest',\n",
       " 'https://www.kickstarter.com/projects/ohtm/iconic-aircraft-restoring-the-red-baron?ref=discovery_category_newest',\n",
       " 'https://www.kickstarter.com/projects/1602548140/jevois-open-source-quad-core-smart-machine-vision?ref=discovery_category_newest',\n",
       " 'https://www.kickstarter.com/projects/1558943114/the-first-ever-wire-free-heated-base-layer-with-kn?ref=discovery_category_newest',\n",
       " 'https://www.kickstarter.com/projects/957324617/mijn-cijfer-inzicht?ref=discovery_category_newest',\n",
       " 'https://www.kickstarter.com/projects/2074806056/fully-waterproof-and-floating-bluetooth-speaker-an?ref=discovery_category_newest',\n",
       " 'https://www.kickstarter.com/projects/kitables/kitables-unleash-your-inner-builder-with-a-monthly?ref=discovery_category_newest',\n",
       " 'https://www.kickstarter.com/projects/1014643579/tuskz-mobile-app?ref=discovery_category_newest',\n",
       " 'https://www.kickstarter.com/projects/756012495/security-by-stealth-camouflage-your-backups?ref=discovery_category_newest',\n",
       " 'https://www.kickstarter.com/projects/pixbackpack/pix-the-first-smart-animative-backpack?ref=discovery_category_newest',\n",
       " 'https://www.kickstarter.com/projects/breakthehopelessness/feboa?ref=discovery_category_newest',\n",
       " 'https://www.kickstarter.com/projects/1350020628/the-banzai-drone?ref=discovery_category_newest',\n",
       " 'https://www.kickstarter.com/projects/wizdoor/wizdoor-stronger-together?ref=discovery_category_newest',\n",
       " 'https://www.kickstarter.com/projects/804806347/teslax-saber-multipurpose-metal-alloy-arc-plasma-l?ref=discovery_category_newest',\n",
       " 'https://www.kickstarter.com/projects/garmar/travelear-mapping-the-world-in-3d-audio?ref=discovery_category_newest',\n",
       " 'https://www.kickstarter.com/projects/1781885077/welle-turn-any-surface-into-a-smart-interface?ref=discovery_category_newest',\n",
       " 'https://www.kickstarter.com/projects/1390418511/wroups?ref=discovery_category_newest',\n",
       " 'https://www.kickstarter.com/projects/484236100/empowering-the-world-with-vitalistic-health-inform?ref=discovery_category_newest',\n",
       " 'https://www.kickstarter.com/projects/fitfamfindr/fitfam-findr-a-dating-app-for-fitness-singles?ref=discovery_category_newest',\n",
       " 'https://www.kickstarter.com/projects/457821098/scooterboard?ref=discovery_category_newest',\n",
       " 'https://www.kickstarter.com/projects/gymratsconnect/gymrats-connect-mobile-app?ref=discovery_category_newest',\n",
       " 'https://www.kickstarter.com/projects/edwardantiransomware/edward-ransomware-immunizer?ref=discovery_category_newest',\n",
       " 'https://www.kickstarter.com/projects/16255902/language-lifestylist-for-bilinguals-wannabes?ref=discovery_category_newest',\n",
       " 'https://www.kickstarter.com/projects/1332473413/wecycle?ref=discovery_category_newest',\n",
       " 'https://www.kickstarter.com/projects/macnelson/inconnect?ref=discovery_category_newest',\n",
       " 'https://www.kickstarter.com/projects/433375967/submersible-item-retriever?ref=discovery_category_newest',\n",
       " 'https://www.kickstarter.com/projects/pumpspotting/the-breast-express?ref=discovery_category_newest',\n",
       " 'https://www.kickstarter.com/projects/94033240/deeno-saur-the-worlds-most-effective-toothbrush-fo?ref=discovery_category_newest',\n",
       " 'https://www.kickstarter.com/projects/1517685286/psh-farmer-online-purchase-of-legumes-fruits-veget?ref=discovery_category_newest',\n",
       " 'https://www.kickstarter.com/projects/joelatrell/from-basement-to-orbit-a-new-class-of-personal-sat?ref=discovery_category_newest',\n",
       " 'https://www.kickstarter.com/projects/mckenzieweller/jemm-develop-faster?ref=discovery_category_newest',\n",
       " 'https://www.kickstarter.com/projects/1951029685/copyright-rights-management-and-contracting-portal?ref=discovery_category_newest',\n",
       " 'https://www.kickstarter.com/projects/2041490933/new-zealand-space-agency-space-plane-project?ref=discovery_category_newest',\n",
       " 'https://www.kickstarter.com/projects/artera/colour-your-dreams?ref=discovery_category_newest',\n",
       " 'https://www.kickstarter.com/projects/selfscientist/self-scientist-a-whole-new-way-to-learn?ref=discovery_category_newest',\n",
       " 'https://www.kickstarter.com/projects/hiddenworlds/marvelous-machines-for-silly-things?ref=discovery_category_newest',\n",
       " 'https://www.kickstarter.com/projects/1092341030/m-light-motion-sensor-activated-miniature-night-li?ref=discovery_category_newest',\n",
       " 'https://www.kickstarter.com/projects/dustinkerstein/capture-360-living-photos-with-panomoments?ref=discovery_category_newest',\n",
       " 'https://www.kickstarter.com/projects/1851162219/magpie-the-smartest-truly-global-gps-tracker-aroun?ref=discovery_category_newest',\n",
       " 'https://www.kickstarter.com/projects/woo-dy/woo-dy-a-67-keys-mechanical-keyboard-that-is-breathing?ref=discovery_category_newest',\n",
       " 'https://www.kickstarter.com/projects/sarkism/autism-ascending?ref=discovery_category_newest',\n",
       " 'https://www.kickstarter.com/projects/1074337162/school-bus-wifi?ref=discovery_category_newest',\n",
       " 'https://www.kickstarter.com/projects/rabidprototypes/neutrino-30-the-32-bit-arduino-zero-compatible?ref=discovery_category_newest',\n",
       " 'https://www.kickstarter.com/projects/1495979308/ecorder-beta?ref=discovery_category_newest',\n",
       " 'https://www.kickstarter.com/projects/azapps/trident-smart-water-valve?ref=discovery_category_newest',\n",
       " 'https://www.kickstarter.com/projects/382493962/prototype-gps-dead-reckoning-locator?ref=discovery_category_newest',\n",
       " 'https://www.kickstarter.com/projects/1134625468/heelight-20-a-sound-reactive-light-for-diy?ref=discovery_category_newest',\n",
       " 'https://www.kickstarter.com/projects/1129823159/the-website-wecontrolcongressus?ref=discovery_category_newest',\n",
       " 'https://www.kickstarter.com/projects/jobwake/jobwake-empleo-en-1-dia?ref=discovery_category_newest',\n",
       " 'https://www.kickstarter.com/projects/1229573443/das-keyboard-5q-the-cloud-connected-keyboard?ref=discovery_category_newest',\n",
       " 'https://www.kickstarter.com/projects/1681194166/bring-quick-golf-to-new-zealand?ref=discovery_category_newest',\n",
       " 'https://www.kickstarter.com/projects/2098018582/chitchat-messenger?ref=discovery_category_newest',\n",
       " 'https://www.kickstarter.com/projects/1705056244/dolphin-lights?ref=discovery_category_newest',\n",
       " 'https://www.kickstarter.com/projects/915499124/the-shwop?ref=discovery_category_newest',\n",
       " 'https://www.kickstarter.com/projects/168321951/surface-energy-never-think-about-charging-again?ref=discovery_category_newest',\n",
       " 'https://www.kickstarter.com/projects/eduonix/advance-artificial-intelligence-and-machine-learning-e-degree?ref=discovery_category_newest',\n",
       " 'https://www.kickstarter.com/projects/622537524/a-third-world-country-asks-you-for-time?ref=discovery_category_newest',\n",
       " 'https://www.kickstarter.com/projects/4fitnessgirls/4fitnessgirls-mobile-app?ref=discovery_category_newest',\n",
       " 'https://www.kickstarter.com/projects/21043064/muzzlme-temporarily-shut-down-your-social-media-si?ref=discovery_category_newest',\n",
       " 'https://www.kickstarter.com/projects/1861178776/develop-your-body-with-gyro-fit?ref=discovery_category_newest',\n",
       " 'https://www.kickstarter.com/projects/identifying/id-dyslexia-awareness-and-identification-tool?ref=discovery_category_newest',\n",
       " 'https://www.kickstarter.com/projects/1338213769/chargemander-the-battery-case-for-mobile-gamers?ref=discovery_category_newest',\n",
       " 'https://www.kickstarter.com/projects/winzki/hoerbert-bluetooth-module?ref=discovery_category_newest',\n",
       " 'https://www.kickstarter.com/projects/850093522/alpha-balltune-your-body-to-the-deep-relaxation-al?ref=discovery_category_newest',\n",
       " 'https://www.kickstarter.com/projects/1234492616/nefilatek-a-100-recycled-3d-printing-filament?ref=discovery_category_newest',\n",
       " 'https://www.kickstarter.com/projects/1020308303/wireless-insider?ref=discovery_category_newest',\n",
       " 'https://www.kickstarter.com/projects/skyborne/smartpad-workfolio-a5?ref=discovery_category_newest',\n",
       " 'https://www.kickstarter.com/projects/607944280/aivia-worlds-smartest-speaker-with-a-built-in-subw?ref=discovery_category_newest',\n",
       " 'https://www.kickstarter.com/projects/1727739708/filesense-attorney-cms?ref=discovery_category_newest',\n",
       " 'https://www.kickstarter.com/projects/pineapl/pineapl-build-your-own-private-infertility-support-network?ref=discovery_category_newest',\n",
       " 'https://www.kickstarter.com/projects/106100452/brexit-referendum-app-enabling-the-peoples-vote?ref=discovery_category_newest',\n",
       " 'https://www.kickstarter.com/projects/mammothinteractive/code-a-fully-functional-airbnb-app-with-google-flutter?ref=discovery_category_newest',\n",
       " 'https://www.kickstarter.com/projects/677760345/longhorn-php-conference?ref=discovery_category_newest',\n",
       " 'https://www.kickstarter.com/projects/datasketch/savethedata?ref=discovery_category_newest',\n",
       " 'https://www.kickstarter.com/projects/1879348803/silky-soft-heart-rate-monitor?ref=discovery_category_newest',\n",
       " 'https://www.kickstarter.com/projects/691756011/simpliccity?ref=discovery_category_newest',\n",
       " 'https://www.kickstarter.com/projects/969008698/a-marketplace-for-sustainable-kids-clothing-toys-a?ref=discovery_category_newest',\n",
       " 'https://www.kickstarter.com/projects/1913046480/octobo-interactive-plush-companion-for-creative-le?ref=discovery_category_newest',\n",
       " 'https://www.kickstarter.com/projects/dreampick/stick-it-your-all-in-one-mount-for-smartphone-and?ref=discovery_category_newest',\n",
       " 'https://www.kickstarter.com/projects/mtellov/campo-mexicano?ref=discovery_category_newest',\n",
       " 'https://www.kickstarter.com/projects/1562362049/restore-the-pluto-discovery-telescope?ref=discovery_category_newest',\n",
       " 'https://www.kickstarter.com/projects/168519831/mint-iota-physical-coin?ref=discovery_category_newest',\n",
       " 'https://www.kickstarter.com/projects/ravean/ultra-light-80g-heated-mid-layer-make-any-jacket-s?ref=discovery_category_newest',\n",
       " 'https://www.kickstarter.com/projects/pablofarias/python-mini-degree-8-courses-to-learn-and-master-p?ref=discovery_category_newest',\n",
       " 'https://www.kickstarter.com/projects/decidethewayyousound/the-first-3d-printed-automatic-pickup-winder?ref=discovery_category_newest',\n",
       " 'https://www.kickstarter.com/projects/1913705673/snapblise?ref=discovery_category_newest',\n",
       " 'https://www.kickstarter.com/projects/1847607923/wicked-ball-your-pets-first-automatic-companion-by?ref=discovery_category_newest',\n",
       " 'https://www.kickstarter.com/projects/1796630087/salva-empowering-parents-protecting-children?ref=discovery_category_newest',\n",
       " 'https://www.kickstarter.com/projects/1573581107/know-your-vote-voting-made-easy?ref=discovery_category_newest',\n",
       " 'https://www.kickstarter.com/projects/82809741/helping-locals-find-jobs-on-hireyallcom?ref=discovery_category_newest',\n",
       " 'https://www.kickstarter.com/projects/pickyourplants/pick-your-plants?ref=discovery_category_newest',\n",
       " 'https://www.kickstarter.com/projects/90334499/living-memories-video-cards?ref=discovery_category_newest',\n",
       " 'https://www.kickstarter.com/projects/1278752687/looper-nick-the-new-tech-luggage-backpack?ref=discovery_category_newest',\n",
       " 'https://www.kickstarter.com/projects/johanhammer/mohawk-head-tracking-device-for-us-gamers?ref=discovery_category_newest',\n",
       " 'https://www.kickstarter.com/projects/1143500283/blue-automotive-intelligence?ref=discovery_category_newest',\n",
       " 'https://www.kickstarter.com/projects/952604242/help-nevermarriedcom-build-an-app?ref=discovery_category_newest',\n",
       " 'https://www.kickstarter.com/projects/1289677718/emy-la-reeducation-perineale-a-domicile?ref=discovery_category_newest',\n",
       " 'https://www.kickstarter.com/projects/978573555/path-breath-fat-band-measures-fat-burn-from-your-b?ref=discovery_category_newest',\n",
       " 'https://www.kickstarter.com/projects/1092341030/m-light-6-the-smallest-adjustable-motion-sensor-ni?ref=discovery_category_newest',\n",
       " 'https://www.kickstarter.com/projects/1013975083/skip-app-paws-for-likes-pals-for-life?ref=discovery_category_newest',\n",
       " 'https://www.kickstarter.com/projects/279405789/megaio-ind-industrial-and-building-automation-for?ref=discovery_category_newest',\n",
       " 'https://www.kickstarter.com/projects/drtabby/qto-x-a-magnetic-light-bar?ref=discovery_category_newest',\n",
       " 'https://www.kickstarter.com/projects/legalese-decoded/privacy-policy-and-terms-of-service-legalese-decod?ref=discovery_category_newest',\n",
       " 'https://www.kickstarter.com/projects/1253519336/arduino-based-curriculum-evaluation-and-learning-m?ref=discovery_category_newest',\n",
       " 'https://www.kickstarter.com/projects/780916630/xze-stable-fast-wireless-charging-stand-for-desk-a?ref=discovery_category_newest',\n",
       " 'https://www.kickstarter.com/projects/skedaddleroach/skedaddle-roach?ref=discovery_category_newest',\n",
       " 'https://www.kickstarter.com/projects/kwankk/network-motion-sensor-smartphone-control?ref=discovery_category_newest',\n",
       " 'https://www.kickstarter.com/projects/1437687385/islamic-halal-accommodation-for-students-in-uk-us?ref=discovery_category_newest',\n",
       " 'https://www.kickstarter.com/projects/663044081/nemo-ultra-high-definition-4k-underwater-drone?ref=discovery_category_newest',\n",
       " 'https://www.kickstarter.com/projects/rgvhb/home-builder-reviews?ref=discovery_category_newest',\n",
       " 'https://www.kickstarter.com/projects/940982475/platonic-do-what-you-want-with-who-you-want?ref=discovery_category_newest',\n",
       " 'https://www.kickstarter.com/projects/1970632837/24seven?ref=discovery_category_newest',\n",
       " 'https://www.kickstarter.com/projects/bobcat46/tandem-buddy-alignment-tool?ref=discovery_category_newest',\n",
       " 'https://www.kickstarter.com/projects/1028290838/city-bike-basket-created-for-bike-share-programs-w?ref=discovery_category_newest',\n",
       " 'https://www.kickstarter.com/projects/125455040/the-lumen-tie?ref=discovery_category_newest',\n",
       " 'https://www.kickstarter.com/projects/1931403020/cura-its-not-just-a-shoe?ref=discovery_category_newest',\n",
       " 'https://www.kickstarter.com/projects/808172947/hot-drone?ref=discovery_category_newest',\n",
       " 'https://www.kickstarter.com/projects/udream/evlo-community-and-app?ref=discovery_category_newest',\n",
       " 'https://www.kickstarter.com/projects/1744115964/gamo-g-ios-and-android-mobile-game-keyboard-and-mouse-adaptor?ref=discovery_category_newest',\n",
       " 'https://www.kickstarter.com/projects/1619105138/create-tech-apprenticeships-for-military-veterans?ref=discovery_category_newest',\n",
       " 'https://www.kickstarter.com/projects/31989551/ulysse-first-travel-app?ref=discovery_category_newest',\n",
       " 'https://www.kickstarter.com/projects/839338150/worldcard-team-best-way-to-manage-contacts-for-ent?ref=discovery_category_newest',\n",
       " 'https://www.kickstarter.com/projects/1335542983/babynosis-teaching-babies-one-dream-at-a-time?ref=discovery_category_newest',\n",
       " 'https://www.kickstarter.com/projects/2129383335/i-extruder-smart-solder-paste-and-fluids-dispenser?ref=discovery_category_newest',\n",
       " 'https://www.kickstarter.com/projects/blazepod/blazepod-supercharge-your-workouts-with-bursts-of?ref=discovery_category_newest',\n",
       " 'https://www.kickstarter.com/projects/2136843662/golf-tech?ref=discovery_category_newest',\n",
       " 'https://www.kickstarter.com/projects/seanmandrake/audiostorm-trident-triple-output-ab-box?ref=discovery_category_newest',\n",
       " 'https://www.kickstarter.com/projects/finditnow/finditnow?ref=discovery_category_newest',\n",
       " 'https://www.kickstarter.com/projects/austin-co-lab/colab-a-safeinclusive-and-free-creative-studio?ref=discovery_category_newest',\n",
       " 'https://www.kickstarter.com/projects/1373880385/audiophile-quality-emergence-as8-holographic-speak?ref=discovery_category_newest',\n",
       " 'https://www.kickstarter.com/projects/fansaves/fansaves-app?ref=discovery_category_newest',\n",
       " 'https://www.kickstarter.com/projects/1189109381/nasa-student-launch-university-of-central-florida-0?ref=discovery_category_newest',\n",
       " 'https://www.kickstarter.com/projects/1263500071/museo-virtual-nacional?ref=discovery_category_newest',\n",
       " 'https://www.kickstarter.com/projects/1510972598/meetube-a-private-social-network?ref=discovery_category_newest',\n",
       " 'https://www.kickstarter.com/projects/arroyomiguel8/project-sherpa?ref=discovery_category_newest',\n",
       " 'https://www.kickstarter.com/projects/1683677606/newaygo-fantasy-sports-network?ref=discovery_category_newest',\n",
       " 'https://www.kickstarter.com/projects/1907516679/smartshop-your-citys-in-your-hands?ref=discovery_category_newest',\n",
       " 'https://www.kickstarter.com/projects/shestarts/shestarts-help-women-start-and-grow-their-business?ref=discovery_category_newest',\n",
       " 'https://www.kickstarter.com/projects/1440773425/the-grind-pomodoro-timer?ref=discovery_category_newest',\n",
       " 'https://www.kickstarter.com/projects/1776057544/friends-irl?ref=discovery_category_newest',\n",
       " 'https://www.kickstarter.com/projects/guillermocarone/wikiarchitectureorg-the-free-architecture-encyclop?ref=discovery_category_newest',\n",
       " 'https://www.kickstarter.com/projects/lovemei/love-mei-ip68-waterproof-case-protect-iphone-x-und?ref=discovery_category_newest',\n",
       " 'https://www.kickstarter.com/projects/thx/a-creative-paradise-where-you-may-build-your-dream?ref=discovery_category_newest',\n",
       " 'https://www.kickstarter.com/projects/1740467793/hugsy-bonding-in-a-heartbeat?ref=discovery_category_newest',\n",
       " 'https://www.kickstarter.com/projects/cleansebot/worlds-first-bacteria-killing-robot?ref=discovery_category_newest',\n",
       " 'https://www.kickstarter.com/projects/1172404778/amptough-your-usb-c-cable-5x-more-stronger-40-fast?ref=discovery_category_newest',\n",
       " 'https://www.kickstarter.com/projects/dcatkin/conservative-social-media-website?ref=discovery_category_newest',\n",
       " 'https://www.kickstarter.com/projects/bsmithpens/projects-of-earth-celebrating-apollo-11-at-50-year?ref=discovery_category_newest',\n",
       " 'https://www.kickstarter.com/projects/1103875596/nvc-a-nodejs-framework-just-like-rails?ref=discovery_category_newest',\n",
       " 'https://www.kickstarter.com/projects/130683111/ecofirm-plant-trees-for-free-wherever-you-want?ref=discovery_category_newest',\n",
       " 'https://www.kickstarter.com/projects/angelrodriguez/raspberry-shake-your-personal-seismograph?ref=discovery_category_newest',\n",
       " 'https://www.kickstarter.com/projects/irocknride/i-rock-n-ride-horseback-riding-hands-free-speaker?ref=discovery_category_newest',\n",
       " 'https://www.kickstarter.com/projects/1782246871/bcon-the-first-ever-gaming-wearable?ref=discovery_category_newest',\n",
       " 'https://www.kickstarter.com/projects/intercambioidiomas/wwwintercambioidiomasonlinecom?ref=discovery_category_newest',\n",
       " 'https://www.kickstarter.com/projects/907135425/dumpster?ref=discovery_category_newest',\n",
       " 'https://www.kickstarter.com/projects/1694698030/digital-student-id-connecting-students-and-univers?ref=discovery_category_newest',\n",
       " 'https://www.kickstarter.com/projects/timothybsmith/bokeh-private-independent-and-user-funded-photo-sh?ref=discovery_category_newest',\n",
       " 'https://www.kickstarter.com/projects/241762786/i-cant-even-explain-how-epic-this-is?ref=discovery_category_newest',\n",
       " 'https://www.kickstarter.com/projects/649011746/thevrgrid-virtual-reality-review-site?ref=discovery_category_newest',\n",
       " 'https://www.kickstarter.com/projects/130182330/quit-a-smart-cigarette-package-to-help-you-quit-sm?ref=discovery_category_newest',\n",
       " 'https://www.kickstarter.com/projects/botani-st/botanist-give-your-plants-the-best-conditions-to-f?ref=discovery_category_newest',\n",
       " 'https://www.kickstarter.com/projects/2112361525/hologram-vision-smartphones-and-tablets-into-holog?ref=discovery_category_newest',\n",
       " 'https://www.kickstarter.com/projects/1470104416/flossone?ref=discovery_category_newest',\n",
       " 'https://www.kickstarter.com/projects/189900848/finclip-the-easiest-way-to-don-doff-your-fins?ref=discovery_category_newest',\n",
       " 'https://www.kickstarter.com/projects/1105629399/rydz-marketplace?ref=discovery_category_newest',\n",
       " 'https://www.kickstarter.com/projects/713443088/flexlock-bicycle-lock?ref=discovery_category_newest',\n",
       " 'https://www.kickstarter.com/projects/1260362681/dbtracktm-premium-sound-monitoring-earphones-by-we?ref=discovery_category_newest',\n",
       " 'https://www.kickstarter.com/projects/1576310579/the-worlds-smartest-modular-wifi-bluetooth-wearabl?ref=discovery_category_newest',\n",
       " 'https://www.kickstarter.com/projects/earwig/earwig-the-limitless-solar-speaker?ref=discovery_category_newest',\n",
       " 'https://www.kickstarter.com/projects/1568313476/sharing-community-of-cat-lovers-that-cat-sit-for-f?ref=discovery_category_newest',\n",
       " 'https://www.kickstarter.com/projects/chardiama/chardiama-screenwriting-and-analytics-prototype?ref=discovery_category_newest',\n",
       " 'https://www.kickstarter.com/projects/555543571/atom-the-first-intelligent-security-robot?ref=discovery_category_newest',\n",
       " 'https://www.kickstarter.com/projects/welikefamily/we-like-family?ref=discovery_category_newest',\n",
       " 'https://www.kickstarter.com/projects/301404792/knurling-adjustable-wrist-straps?ref=discovery_category_newest',\n",
       " 'https://www.kickstarter.com/projects/297727068/flipeet?ref=discovery_category_newest',\n",
       " 'https://www.kickstarter.com/projects/1428988714/rambler-0?ref=discovery_category_newest',\n",
       " 'https://www.kickstarter.com/projects/555543571/ar4x-the-intelligent-camera-robot-that-redefines-s?ref=discovery_category_newest',\n",
       " 'https://www.kickstarter.com/projects/howltohome/howl-to-home-a-matchmaking-app-for-rescue-dogs-ado?ref=discovery_category_newest',\n",
       " 'https://www.kickstarter.com/projects/2rate/2rate?ref=discovery_category_newest',\n",
       " 'https://www.kickstarter.com/projects/clip/clipportable-e-motor-to-transform-any-bike-into-an?ref=discovery_category_newest',\n",
       " 'https://www.kickstarter.com/projects/988476124/purplekit?ref=discovery_category_newest',\n",
       " 'https://www.kickstarter.com/projects/723182484/wright-lc?ref=discovery_category_newest',\n",
       " 'https://www.kickstarter.com/projects/lohn/atos-sofa-arm-rest-table-with-phone-and-tablet-sta?ref=discovery_category_newest',\n",
       " 'https://www.kickstarter.com/projects/space-elevator/the-space-elevator-from-imagination-to-reality?ref=discovery_category_newest',\n",
       " 'https://www.kickstarter.com/projects/astroprint/astrobox-touch-a-powerful-touchscreen-for-your-3d?ref=discovery_category_newest',\n",
       " 'https://www.kickstarter.com/projects/1286289622/gyo-the-all-in-one-way-to-grow-your-own?ref=discovery_category_newest',\n",
       " 'https://www.kickstarter.com/projects/1776396734/private-and-personal-carpool-services-direct-rides?ref=discovery_category_newest',\n",
       " 'https://www.kickstarter.com/projects/campground/launching-self-serve-campgrounds-for-outdoor-adven?ref=discovery_category_newest',\n",
       " 'https://www.kickstarter.com/projects/woodenshark/lightpack-2-ultimate-light-orchestra-for-your-livi?ref=discovery_category_newest',\n",
       " 'https://www.kickstarter.com/projects/1299722061/acorn-android-nfc-food-tracker-0?ref=discovery_category_newest',\n",
       " 'https://www.kickstarter.com/projects/934867583/fitibi?ref=discovery_category_newest',\n",
       " 'https://www.kickstarter.com/projects/987562271/stipata-a-natural-hybrid-speaker?ref=discovery_category_newest',\n",
       " 'https://www.kickstarter.com/projects/1010013642/snail-scoop?ref=discovery_category_newest',\n",
       " 'https://www.kickstarter.com/projects/1477232502/crowdfunding-service-for-the-homeless-veterans-and?ref=discovery_category_newest',\n",
       " 'https://www.kickstarter.com/projects/29744632/mezone-best-sounding-snug-fit-true-wireless-stereo?ref=discovery_category_newest',\n",
       " 'https://www.kickstarter.com/projects/siike92/dark-arcade-a-low-cost-paraphonic-synthesizer-modu?ref=discovery_category_newest',\n",
       " 'https://www.kickstarter.com/projects/581039845/lumicat-motion-activated-color-changing-led-light-0?ref=discovery_category_newest',\n",
       " 'https://www.kickstarter.com/projects/ovilli/ovistand-up-the-ultralight-foldable-monitor-riser?ref=discovery_category_newest',\n",
       " 'https://www.kickstarter.com/projects/f23/a-cataphotonic-swingstick?ref=discovery_category_newest',\n",
       " 'https://www.kickstarter.com/projects/201319029/make-baseball-fun-again-with-dugout-captain?ref=discovery_category_newest',\n",
       " 'https://www.kickstarter.com/projects/603722747/bikintime-by-velair-can-you-believe-its-an-e-bike?ref=discovery_category_newest',\n",
       " 'https://www.kickstarter.com/projects/197468516/remote-robotic-presence-with-off-the-shelf-hardwar?ref=discovery_category_newest',\n",
       " 'https://www.kickstarter.com/projects/1718545801/childrens-educational-makerspace?ref=discovery_category_newest',\n",
       " 'https://www.kickstarter.com/projects/lifesmomentsapp/lifes-moments-app-your-kids-life-in-the-palm-of-your-hand?ref=discovery_category_newest',\n",
       " 'https://www.kickstarter.com/projects/794678589/taamiz-a-peer-to-peer-cleaning-service-application?ref=discovery_category_newest',\n",
       " 'https://www.kickstarter.com/projects/51beats/51beats-factory?ref=discovery_category_newest',\n",
       " 'https://www.kickstarter.com/projects/beepihoneybeesmeetai/beepi-honeybees-meet-ai-stage-2?ref=discovery_category_newest',\n",
       " 'https://www.kickstarter.com/projects/iniebelt/inie-belt-smart-and-fashionable-belt-monitors-your-0?ref=discovery_category_newest',\n",
       " 'https://www.kickstarter.com/projects/1038140795/mac-make-a-change-app-for-support-with-mental-heal?ref=discovery_category_newest',\n",
       " 'https://www.kickstarter.com/projects/1355635123/smartplanner?ref=discovery_category_newest',\n",
       " 'https://www.kickstarter.com/projects/griefguide/griefguide-the-interactive-self-counseling-app?ref=discovery_category_newest',\n",
       " 'https://www.kickstarter.com/projects/anthemone/anthem-one-lighting-for-film-photography-and-so-mu?ref=discovery_category_newest',\n",
       " 'https://www.kickstarter.com/projects/84205751/any-length?ref=discovery_category_newest',\n",
       " 'https://www.kickstarter.com/projects/camemoryusa/motion-control-camera-camcorder-hd-bluetooth-smart?ref=discovery_category_newest',\n",
       " 'https://www.kickstarter.com/projects/1826759255/shut-app?ref=discovery_category_newest',\n",
       " 'https://www.kickstarter.com/projects/2105090567/the-rover-pack-a-blend-of-voltage-and-perspective?ref=discovery_category_newest',\n",
       " 'https://www.kickstarter.com/projects/taimooraslam/slashy-social-media-platform?ref=discovery_category_newest',\n",
       " 'https://www.kickstarter.com/projects/847043412/powershot-app-measure-how-fast-you-can-kick-hit-or?ref=discovery_category_newest',\n",
       " 'https://www.kickstarter.com/projects/757265453/be-cool-anywhere-or-hot?ref=discovery_category_newest',\n",
       " 'https://www.kickstarter.com/projects/petuniatech/wisoccero-the-soccer-player-robot?ref=discovery_category_newest',\n",
       " 'https://www.kickstarter.com/projects/363181902/greengiggacom?ref=discovery_category_newest',\n",
       " 'https://www.kickstarter.com/projects/logox/woodox-sling-the-ultimate-firewood-carrier?ref=discovery_category_newest',\n",
       " 'https://www.kickstarter.com/projects/766441764/pegase?ref=discovery_category_newest',\n",
       " 'https://www.kickstarter.com/projects/782017470/monolith-posture-coach?ref=discovery_category_newest',\n",
       " 'https://www.kickstarter.com/projects/jeanettes/gigr-never-be-ghosted-again?ref=discovery_category_newest',\n",
       " 'https://www.kickstarter.com/projects/258815262/quickstarter-cultivatebio-grow-your-own-food?ref=discovery_category_newest',\n",
       " 'https://www.kickstarter.com/projects/1442208591/veveggie-veggies-goes-social?ref=discovery_category_newest',\n",
       " 'https://www.kickstarter.com/projects/1082026/vme-your-virtual-footprint?ref=discovery_category_newest',\n",
       " 'https://www.kickstarter.com/projects/sensoriafitness/sensoria-artificial-intelligence-sportswear?ref=discovery_category_newest',\n",
       " 'https://www.kickstarter.com/projects/957507812/team-6040-getobotics?ref=discovery_category_newest',\n",
       " 'https://www.kickstarter.com/projects/1381765551/d-fusione-sensitive-music?ref=discovery_category_newest',\n",
       " 'https://www.kickstarter.com/projects/cashyourspam/turn-anoying-spam-into-cash-and-live-junk-free-for?ref=discovery_category_newest',\n",
       " 'https://www.kickstarter.com/projects/thinkcrate/thinkcrate?ref=discovery_category_newest',\n",
       " 'https://www.kickstarter.com/projects/576119446/palmoilchecker?ref=discovery_category_newest',\n",
       " 'https://www.kickstarter.com/projects/1085676231/flo-the-social-thermometer-for-your-health?ref=discovery_category_newest',\n",
       " 'https://www.kickstarter.com/projects/438768734/first-grade-exercises?ref=discovery_category_newest',\n",
       " 'https://www.kickstarter.com/projects/2109711639/esp8266-programmer?ref=discovery_category_newest',\n",
       " 'https://www.kickstarter.com/projects/1225842462/uberair-flightsharing?ref=discovery_category_newest',\n",
       " 'https://www.kickstarter.com/projects/1982943473/flipaw-unleash-your-dogs-voice?ref=discovery_category_newest',\n",
       " 'https://www.kickstarter.com/projects/gemphones/gemphones-wireless-bluetooth-necklace-earphones-fo?ref=discovery_category_newest',\n",
       " 'https://www.kickstarter.com/projects/906938906/pinn-all-in-one-handsfree-device?ref=discovery_category_newest',\n",
       " 'https://www.kickstarter.com/projects/theclimateguard/smart-visual-indicator-of-the-climate-quality-around-you?ref=discovery_category_newest',\n",
       " 'https://www.kickstarter.com/projects/2065462911/halo-passenger-drone?ref=discovery_category_newest',\n",
       " 'https://www.kickstarter.com/projects/1082110656/crowdfunding-20-copyright-your-project?ref=discovery_category_newest',\n",
       " 'https://www.kickstarter.com/projects/875578749/hero-breakaway?ref=discovery_category_newest',\n",
       " 'https://www.kickstarter.com/projects/shpatzahiri/ieat?ref=discovery_category_newest',\n",
       " 'https://www.kickstarter.com/projects/kamlan/kamlan-28mm-f-14-standard-mirrorless-prime-lens?ref=discovery_category_newest',\n",
       " 'https://www.kickstarter.com/projects/67935456/batteryduino-battery-shield-for-arduino?ref=discovery_category_newest',\n",
       " 'https://www.kickstarter.com/projects/shela/shela?ref=discovery_category_newest',\n",
       " 'https://www.kickstarter.com/projects/1768923724/languag3-thinking-in-any-language-with-three-steps-0?ref=discovery_category_newest',\n",
       " 'https://www.kickstarter.com/projects/1783400091/ufo-beauty-tech-revolutionizes-face-masks-in-90-se?ref=discovery_category_newest',\n",
       " 'https://www.kickstarter.com/projects/198846860/start-a-web-design-and-web-development-firm?ref=discovery_category_newest',\n",
       " 'https://www.kickstarter.com/projects/thingyfyio/nxt-ring-your-digital-self-at-hand?ref=discovery_category_newest',\n",
       " 'https://www.kickstarter.com/projects/mightysheds/mighty-sheds?ref=discovery_category_newest',\n",
       " 'https://www.kickstarter.com/projects/1646347716/jwildfire-flame-gpu-renderer?ref=discovery_category_newest',\n",
       " 'https://www.kickstarter.com/projects/tanguy-lafarge/event-planner-gather-to-pay-less?ref=discovery_category_newest',\n",
       " 'https://www.kickstarter.com/projects/1379775027/everybodee-app-one-community-reporting?ref=discovery_category_newest',\n",
       " 'https://www.kickstarter.com/projects/1240982104/smartpi-turn-your-raspberry-pi-into-a-smartmeter?ref=discovery_category_newest',\n",
       " 'https://www.kickstarter.com/projects/888369457/arches-tactile-universal-interface?ref=discovery_category_newest',\n",
       " 'https://www.kickstarter.com/projects/401702470/baddy-open-source-badminton-robot?ref=discovery_category_newest',\n",
       " 'https://www.kickstarter.com/projects/831481747/solar-power-cap-charge-on-the-go?ref=discovery_category_newest',\n",
       " 'https://www.kickstarter.com/projects/829345582/zippyar-iot-and-movement?ref=discovery_category_newest',\n",
       " 'https://www.kickstarter.com/projects/1121492999/delta-groove-guitars-cnc-designs?ref=discovery_category_newest',\n",
       " 'https://www.kickstarter.com/projects/jadep/mane-hook-up?ref=discovery_category_newest',\n",
       " 'https://www.kickstarter.com/projects/2011951601/partplay-practice-companion-for-classical-musician?ref=discovery_category_newest',\n",
       " 'https://www.kickstarter.com/projects/1491623355/pileyncom-be-yourself-again?ref=discovery_category_newest',\n",
       " 'https://www.kickstarter.com/projects/766645869/sistema-de-almacenamiento-ciudadano-de-votacion-me?ref=discovery_category_newest',\n",
       " 'https://www.kickstarter.com/projects/omnipod/omnipod-any-camera-every-moment-0?ref=discovery_category_newest',\n",
       " 'https://www.kickstarter.com/projects/openeven/openeven-events?ref=discovery_category_newest',\n",
       " 'https://www.kickstarter.com/projects/2110888517/dokicam-view-new-worlds?ref=discovery_category_newest',\n",
       " 'https://www.kickstarter.com/projects/lohn/atos-sofa-armrest-table-with-phone-and-tablet-stan?ref=discovery_category_newest',\n",
       " 'https://www.kickstarter.com/projects/1933963323/vendscore?ref=discovery_category_newest',\n",
       " 'https://www.kickstarter.com/projects/1167952074/no-more-online-ads?ref=discovery_category_newest',\n",
       " 'https://www.kickstarter.com/projects/492288315/northseaflight-super-fast-and-efficient-transporta?ref=discovery_category_newest',\n",
       " 'https://www.kickstarter.com/projects/327018978/mint-deeponion-physical-coins?ref=discovery_category_newest',\n",
       " 'https://www.kickstarter.com/projects/strig/strig-microcurrent-and-microvibration-l-full-body?ref=discovery_category_newest',\n",
       " 'https://www.kickstarter.com/projects/1335488684/easysave?ref=discovery_category_newest',\n",
       " 'https://www.kickstarter.com/projects/911863294/the-revolutionary-rshield-nanofiber-scarf-for-smog?ref=discovery_category_newest',\n",
       " 'https://www.kickstarter.com/projects/1306806411/build-worlds-largest-travelers-community?ref=discovery_category_newest',\n",
       " 'https://www.kickstarter.com/projects/891603560/alex-perfect-posture-in-21-days?ref=discovery_category_newest',\n",
       " 'https://www.kickstarter.com/projects/143072809/a-maker-faire-for-providence-ri?ref=discovery_category_newest',\n",
       " 'https://www.kickstarter.com/projects/spyassociates/spyfinder-pro-hidden-camera-detector-spying-preven?ref=discovery_category_newest',\n",
       " 'https://www.kickstarter.com/projects/346438568/your-shipping-ally?ref=discovery_category_newest',\n",
       " 'https://www.kickstarter.com/projects/637397954/ecoshark-pool-pump-money-saving-water-filtration-s?ref=discovery_category_newest',\n",
       " 'https://www.kickstarter.com/projects/676316676/teleplantathic-vertical-garden?ref=discovery_category_newest',\n",
       " 'https://www.kickstarter.com/projects/2067132877/resist-va-project?ref=discovery_category_newest',\n",
       " 'https://www.kickstarter.com/projects/516806784/bug-i-a-single-playboard-to-make-the-first-step-in?ref=discovery_category_newest',\n",
       " 'https://www.kickstarter.com/projects/lupepablo/lupe-cordless-vacuum-cleaner-powerful-enduring-flexible?ref=discovery_category_newest',\n",
       " 'https://www.kickstarter.com/projects/lifeglobalawareness/love-and-ability-dating-site?ref=discovery_category_newest',\n",
       " 'https://www.kickstarter.com/projects/1818306918/perfect-skate-spots-pss?ref=discovery_category_newest',\n",
       " 'https://www.kickstarter.com/projects/699876364/stupid-hackathon-2017?ref=discovery_category_newest',\n",
       " 'https://www.kickstarter.com/projects/aipower/wearbuds-unique-on-wrist-charging-hi-fi-earbuds?ref=discovery_category_newest',\n",
       " 'https://www.kickstarter.com/projects/1187836018/qualmeter-xt-greater-experience-on-cable-charger-t?ref=discovery_category_newest',\n",
       " 'https://www.kickstarter.com/projects/147086947/aio-smart-sleeve-activity-tracking-compression-sle?ref=discovery_category_newest',\n",
       " 'https://www.kickstarter.com/projects/1446937413/eplant-prototype?ref=discovery_category_newest',\n",
       " 'https://www.kickstarter.com/projects/1292619592/stretch-buckle-belt-the-belt-that-moves-with-you?ref=discovery_category_newest',\n",
       " 'https://www.kickstarter.com/projects/180413544/magic-the-gathering-decks-api?ref=discovery_category_newest',\n",
       " 'https://www.kickstarter.com/projects/thisisdobox/dobox-portable-wireless-dock-for-apple-devices?ref=discovery_category_newest',\n",
       " 'https://www.kickstarter.com/projects/772515070/nextdev-a-user-interface-device-for-the-iot?ref=discovery_category_newest',\n",
       " 'https://www.kickstarter.com/projects/141080940/high-power-h-bridge-motor-shield-for-arduino?ref=discovery_category_newest',\n",
       " 'https://www.kickstarter.com/projects/1817335890/infinity-100-affordable-3d-printer?ref=discovery_category_newest',\n",
       " 'https://www.kickstarter.com/projects/234422345/yoursco-transform-your-videos-into-beautiful-home?ref=discovery_category_newest',\n",
       " 'https://www.kickstarter.com/projects/760835078/robojoe-prototype-a-robotic-coffee-shop?ref=discovery_category_newest',\n",
       " 'https://www.kickstarter.com/projects/548166693/eco-space-station?ref=discovery_category_newest',\n",
       " 'https://www.kickstarter.com/projects/akita/akita-instant-privacy-for-smart-homes?ref=discovery_category_newest',\n",
       " 'https://www.kickstarter.com/projects/2089014921/learn-coding-get-a-gadget-help-me-te4ching?ref=discovery_category_newest',\n",
       " 'https://www.kickstarter.com/projects/2117186822/tough-beat-the-only-wireless-and-waterproof-surfac?ref=discovery_category_newest',\n",
       " 'https://www.kickstarter.com/projects/studebuddies/educate-me-hat-sale?ref=discovery_category_newest',\n",
       " 'https://www.kickstarter.com/projects/187011957/myarkit-saved-my-life?ref=discovery_category_newest',\n",
       " 'https://www.kickstarter.com/projects/tothemat/to-the-mat?ref=discovery_category_newest',\n",
       " 'https://www.kickstarter.com/projects/270818922/bicanda-elecciones-transparentes-en-mexico?ref=discovery_category_newest',\n",
       " 'https://www.kickstarter.com/projects/nerotrigger/miops-mobile-the-worlds-most-versatile-camera-remo?ref=discovery_category_newest',\n",
       " 'https://www.kickstarter.com/projects/121166038/the-stock-market-bay?ref=discovery_category_newest',\n",
       " 'https://www.kickstarter.com/projects/48463079/intello-canadas-bookkeeping-software?ref=discovery_category_newest',\n",
       " 'https://www.kickstarter.com/projects/mycajita/mycajia-mexicos-culture-home-delivered-monthly?ref=discovery_category_newest',\n",
       " 'https://www.kickstarter.com/projects/487565953/hoverpen-the-executive-pen-that-defies-gravity?ref=discovery_category_newest',\n",
       " 'https://www.kickstarter.com/projects/lacetech/ola-online-layout-analyzer-cross-browser-testing-tool?ref=discovery_category_newest',\n",
       " 'https://www.kickstarter.com/projects/patriziocoppitelli/app-udienza?ref=discovery_category_newest',\n",
       " 'https://www.kickstarter.com/projects/primehd/databoss-v24-the-easiest-photo-video-backup-and-fi?ref=discovery_category_newest',\n",
       " 'https://www.kickstarter.com/projects/andreslopez/la-cokada-app?ref=discovery_category_newest',\n",
       " 'https://www.kickstarter.com/projects/1330096888/inviot-u1-arduino-compatible-all-in-one-board?ref=discovery_category_newest',\n",
       " 'https://www.kickstarter.com/projects/912585216/librenet?ref=discovery_category_newest',\n",
       " 'https://www.kickstarter.com/projects/kryentertaining/a-faithful-mate-in-progress?ref=discovery_category_newest',\n",
       " 'https://www.kickstarter.com/projects/1621533277/kaar-brace-project?ref=discovery_category_newest',\n",
       " 'https://www.kickstarter.com/projects/921287511/aquagenie-the-worlds-smartest-water-bottle?ref=discovery_category_newest',\n",
       " 'https://www.kickstarter.com/projects/frankfox/basic-and-advanced-breakout-boards-plus-more?ref=discovery_category_newest',\n",
       " 'https://www.kickstarter.com/projects/britbunk/california-drought-solution-database?ref=discovery_category_newest',\n",
       " 'https://www.kickstarter.com/projects/breakerwizard/breakerwizard-uniting-the-customer-and-the-company?ref=discovery_category_newest',\n",
       " 'https://www.kickstarter.com/projects/pablofarias/full-stack-web-development-mini-degree?ref=discovery_category_newest',\n",
       " 'https://www.kickstarter.com/projects/thestubborndev/analysis-of-satellite-images-that-may-show-truth-o?ref=discovery_category_newest',\n",
       " 'https://www.kickstarter.com/projects/1361656307/antybuddycom?ref=discovery_category_newest',\n",
       " 'https://www.kickstarter.com/projects/988476124/purplemob?ref=discovery_category_newest',\n",
       " 'https://www.kickstarter.com/projects/mime/mearm-pi-build-your-own-raspberry-pi-powered-robot?ref=discovery_category_newest',\n",
       " 'https://www.kickstarter.com/projects/mikme/mikme-pocket-a-smarter-way-to-record-audio-for-your-videos?ref=discovery_category_newest',\n",
       " 'https://www.kickstarter.com/projects/236612736/sterilize-999-of-bacteria-in-5-secs-with-vray?ref=discovery_category_newest',\n",
       " 'https://www.kickstarter.com/projects/1483928940/lunarmessagingnet?ref=discovery_category_newest',\n",
       " 'https://www.kickstarter.com/projects/2053670348/zeon-the-smart-personal-air-purifier-ionizer-wirel?ref=discovery_category_newest',\n",
       " 'https://www.kickstarter.com/projects/atolla/atolla-personal-skincare-powered-by-machine-learni?ref=discovery_category_newest',\n",
       " 'https://www.kickstarter.com/projects/361953386/us-government-contracting-cloud-based-saas-360-pla?ref=discovery_category_newest',\n",
       " 'https://www.kickstarter.com/projects/991312795/drive-blue?ref=discovery_category_newest',\n",
       " 'https://www.kickstarter.com/projects/243372678/nolo-affordable-motion-tracking-for-mobile-and-ste?ref=discovery_category_newest',\n",
       " 'https://www.kickstarter.com/projects/503830876/good-nutrition-starts-with-smart-choices?ref=discovery_category_newest',\n",
       " 'https://www.kickstarter.com/projects/2088803395/minimojo-electronic-gadget?ref=discovery_category_newest',\n",
       " 'https://www.kickstarter.com/projects/1687397594/illuminu?ref=discovery_category_newest',\n",
       " 'https://www.kickstarter.com/projects/1531529572/heatsheet-a-sheet-for-large-vehicles-and-their-dec?ref=discovery_category_newest',\n",
       " 'https://www.kickstarter.com/projects/1908786125/inki-pen-a-new-kind-of-drawing-pen?ref=discovery_category_newest',\n",
       " 'https://www.kickstarter.com/projects/mindfaction/the-worlds-most-people-centric-legal-software?ref=discovery_category_newest',\n",
       " 'https://www.kickstarter.com/projects/263428281/motorcycle-lesson-comparison-booking-website?ref=discovery_category_newest',\n",
       " 'https://www.kickstarter.com/projects/1134625468/heelight-a-smart-bulb-that-can-hear-the-environmen?ref=discovery_category_newest',\n",
       " 'https://www.kickstarter.com/projects/387700070/smokewithmenow?ref=discovery_category_newest',\n",
       " 'https://www.kickstarter.com/projects/zacharyjames/gabngab-social-media-without-bullying-or-censorshi?ref=discovery_category_newest',\n",
       " 'https://www.kickstarter.com/projects/700775156/thevdock-cell-phone-accessories-thats-never-been-s?ref=discovery_category_newest',\n",
       " 'https://www.kickstarter.com/projects/1231056504/the-sub-suit-project?ref=discovery_category_newest',\n",
       " 'https://www.kickstarter.com/projects/1758860688/q-kard-the-virtual-business-card-that-does-it-all?ref=discovery_category_newest',\n",
       " 'https://www.kickstarter.com/projects/refrigerantcleaning/refrigerant-cleaning-machine-portable-refrigerant-clean-tool?ref=discovery_category_newest',\n",
       " 'https://www.kickstarter.com/projects/sensibleworld/symbolicons-pro-your-friendly-versatile-go-to-icon?ref=discovery_category_newest',\n",
       " 'https://www.kickstarter.com/projects/274008848/metafly-a-new-flying-experience?ref=discovery_category_newest',\n",
       " 'https://www.kickstarter.com/projects/747120157/pharos-smart-antenna-for-drones?ref=discovery_category_newest',\n",
       " 'https://www.kickstarter.com/projects/470711163/skin-majestic-vitamin-infused-aroma-shower-filter?ref=discovery_category_newest',\n",
       " 'https://www.kickstarter.com/projects/1047803443/knowledge-is-power-life-skills?ref=discovery_category_newest',\n",
       " 'https://www.kickstarter.com/projects/95611387/anywherecab-innovation-global-p2p-tnc-for-taxi-and?ref=discovery_category_newest',\n",
       " 'https://www.kickstarter.com/projects/1723590213/underdogs-revenge?ref=discovery_category_newest',\n",
       " 'https://www.kickstarter.com/projects/ashleymosuro/breefio-automate-requirements-gathering-for-your-p?ref=discovery_category_newest',\n",
       " 'https://www.kickstarter.com/projects/intmindsco/projecta-the-ultimate-solution-for-the-pcb-printin?ref=discovery_category_newest',\n",
       " 'https://www.kickstarter.com/projects/713401305/doorbell-phone-20-the-rotary-phone-doorbell?ref=discovery_category_newest',\n",
       " 'https://www.kickstarter.com/projects/7940439/tcad-housing-appraisal-records-1987-2017?ref=discovery_category_newest',\n",
       " 'https://www.kickstarter.com/projects/12283819/quickpad-one-device-to-rule-them-all?ref=discovery_category_newest',\n",
       " 'https://www.kickstarter.com/projects/470115464/tourbox-the-game-changer-for-photoshop-and-lightro?ref=discovery_category_newest',\n",
       " 'https://www.kickstarter.com/projects/475267705/urpc-an-arduino-based-pc-servo-and-light-controlle?ref=discovery_category_newest',\n",
       " 'https://www.kickstarter.com/projects/1866188127/limitless-10-cnc-combo-3d-printer-controller?ref=discovery_category_newest',\n",
       " 'https://www.kickstarter.com/projects/1847201514/the-dreamline-app?ref=discovery_category_newest',\n",
       " 'https://www.kickstarter.com/projects/1787403153/self-propelling-motor-with-clamp-brakes?ref=discovery_category_newest',\n",
       " 'https://www.kickstarter.com/projects/433436998/immersion-pro-complete-homebrew-fermentation-syste?ref=discovery_category_newest',\n",
       " 'https://www.kickstarter.com/projects/doogee/doogee-s90-the-most-versatile-unbreakable-smartpho?ref=discovery_category_newest',\n",
       " 'https://www.kickstarter.com/projects/biemspray/biem-qx3-butter-sprayer?ref=discovery_category_newest',\n",
       " 'https://www.kickstarter.com/projects/1719784124/bot-party-30?ref=discovery_category_newest',\n",
       " 'https://www.kickstarter.com/projects/1318970768/boxingwithstrangers?ref=discovery_category_newest',\n",
       " 'https://www.kickstarter.com/projects/nerotrigger/capsule360-worlds-most-versatile-motion-box-ever-c?ref=discovery_category_newest',\n",
       " 'https://www.kickstarter.com/projects/1981202253/soldatabank-the-marketplace-of-information-and-kno?ref=discovery_category_newest',\n",
       " 'https://www.kickstarter.com/projects/1403517311/gigi-hey-got-your-phone?ref=discovery_category_newest',\n",
       " 'https://www.kickstarter.com/projects/tinkersmiths/dorkpod-diy-open-source-vertical-electric-transpor?ref=discovery_category_newest',\n",
       " 'https://www.kickstarter.com/projects/arenar/iband-eeg-headband-that-helps-you-sleep-and-dream?ref=discovery_category_newest',\n",
       " 'https://www.kickstarter.com/projects/bobe/bob-e-a-friendly-robot-controlled-through-a-vr-hea?ref=discovery_category_newest',\n",
       " 'https://www.kickstarter.com/projects/1624230792/simple-3d-solutions?ref=discovery_category_newest',\n",
       " 'https://www.kickstarter.com/projects/zifnu/pixel-full-color-led-flashlight-kit-arduino-compat?ref=discovery_category_newest',\n",
       " 'https://www.kickstarter.com/projects/spacegold/hyper-efficient-solar-laser-spacegold-miners?ref=discovery_category_newest',\n",
       " 'https://www.kickstarter.com/projects/zonavip/zona-vip-app?ref=discovery_category_newest',\n",
       " 'https://www.kickstarter.com/projects/2166094/multidapter-all-in-one-hub-for-new-macbook-12-inch?ref=discovery_category_newest',\n",
       " 'https://www.kickstarter.com/projects/splurgeswim/splurge-swim-practice-writing-software?ref=discovery_category_newest',\n",
       " 'https://www.kickstarter.com/projects/curiscope/virtualitee?ref=discovery_category_newest',\n",
       " 'https://www.kickstarter.com/projects/1758846971/intrepeedorg?ref=discovery_category_newest',\n",
       " 'https://www.kickstarter.com/projects/speakbin/the-hooke-door-helmet-door-locks?ref=discovery_category_newest',\n",
       " 'https://www.kickstarter.com/projects/leafboard/leafboard-plus-the-ultimate-modular-electric-skate?ref=discovery_category_newest',\n",
       " 'https://www.kickstarter.com/projects/wedgeforce/enable-piano-players-to-rock-like-guitarists?ref=discovery_category_newest',\n",
       " 'https://www.kickstarter.com/projects/1030847381/skandrelz-the-android-mobile-app?ref=discovery_category_newest',\n",
       " 'https://www.kickstarter.com/projects/488432445/bot-bash-parties-robot-battle-kits?ref=discovery_category_newest',\n",
       " 'https://www.kickstarter.com/projects/1658806171/the-magneto-carbon?ref=discovery_category_newest',\n",
       " 'https://www.kickstarter.com/projects/theshudder/the-shudder-pc-camera-cover-that-expands-to-a-pc-s?ref=discovery_category_newest',\n",
       " 'https://www.kickstarter.com/projects/433223841/car-repair-app?ref=discovery_category_newest',\n",
       " 'https://www.kickstarter.com/projects/plaato/plaato-keg-the-ultimate-beer-tool-tracks-every-pour?ref=discovery_category_newest',\n",
       " 'https://www.kickstarter.com/projects/1325722173/iofit-the-first-smart-shoes-to-improve-your-golf-g?ref=discovery_category_newest',\n",
       " 'https://www.kickstarter.com/projects/485364359/supernova-robotics-first-frc?ref=discovery_category_newest',\n",
       " 'https://www.kickstarter.com/projects/973039847/prodeus-social-network-learning-community-micro-fa?ref=discovery_category_newest',\n",
       " 'https://www.kickstarter.com/projects/element4/element4-to-innovate?ref=discovery_category_newest',\n",
       " 'https://www.kickstarter.com/projects/multi-cnc/multi-cnc?ref=discovery_category_newest',\n",
       " 'https://www.kickstarter.com/projects/bryanneleeming/unruly-splats-active-stem-play?ref=discovery_category_newest',\n",
       " 'https://www.kickstarter.com/projects/aumi/aumi-mini-a-smart-notification-light-and-nightligh?ref=discovery_category_newest',\n",
       " 'https://www.kickstarter.com/projects/1521535035/online-photo-and-video-album?ref=discovery_category_newest',\n",
       " 'https://www.kickstarter.com/projects/1164216348/home-therapy-time-llc-your-therapy-partner?ref=discovery_category_newest',\n",
       " 'https://www.kickstarter.com/projects/229968997/edcar-a-crash-course-in-programming-and-electronic?ref=discovery_category_newest',\n",
       " 'https://www.kickstarter.com/projects/384708504/incentivising-and-rewarding-student-achievement?ref=discovery_category_newest',\n",
       " 'https://www.kickstarter.com/projects/287307896/relaunching-pitascom-a-20-year-old-blogging-commun?ref=discovery_category_newest',\n",
       " 'https://www.kickstarter.com/projects/freebyrdapp/freebyrd-app?ref=discovery_category_newest',\n",
       " 'https://www.kickstarter.com/projects/1214906246/gosh-easyfeed-the-100-hassle-free-automatic-pet-fe?ref=discovery_category_newest',\n",
       " 'https://www.kickstarter.com/projects/1094677795/rhino-smart-extruder-jam-detector-for-3d-printers?ref=discovery_category_newest',\n",
       " 'https://www.kickstarter.com/projects/shrkey/dark-control-robot-controllers-for-the-raspberry-p?ref=discovery_category_newest',\n",
       " 'https://www.kickstarter.com/projects/anysafelock/anybag-backpack-with-anti-theft-fingerprint-lock?ref=discovery_category_newest',\n",
       " 'https://www.kickstarter.com/projects/cpiekarski/securing-our-schools-with-technology?ref=discovery_category_newest',\n",
       " 'https://www.kickstarter.com/projects/405254317/habitat-cycle-light?ref=discovery_category_newest',\n",
       " 'https://www.kickstarter.com/projects/1443291078/the-ezc-smartlight?ref=discovery_category_newest',\n",
       " 'https://www.kickstarter.com/projects/34257246/jupyter-notebook-101?ref=discovery_category_newest',\n",
       " 'https://www.kickstarter.com/projects/203703561/cellcount-automated-cell-counting-with-your-phones?ref=discovery_category_newest',\n",
       " 'https://www.kickstarter.com/projects/2121903070/blockchain-worldwide-la-fabrication-distribuee?ref=discovery_category_newest',\n",
       " 'https://www.kickstarter.com/projects/ssh/smart-shopping-handle?ref=discovery_category_newest',\n",
       " 'https://www.kickstarter.com/projects/vasara/vasara-a-multi-functional-hammer?ref=discovery_category_newest',\n",
       " 'https://www.kickstarter.com/projects/kokoshungsan/kokoshungsan-a-place-to-start-working-smart?ref=discovery_category_newest',\n",
       " 'https://www.kickstarter.com/projects/vochlea/dubler-studio-kit-your-voice-the-ultimate-midi-con?ref=discovery_category_newest',\n",
       " 'https://www.kickstarter.com/projects/aurai-rio2019/aurai-the-worlds-1st-cool-warm-water-propelled-eye?ref=discovery_category_newest',\n",
       " 'https://www.kickstarter.com/projects/1747562424/adns-3050-optical-sensor?ref=discovery_category_newest',\n",
       " 'https://www.kickstarter.com/projects/no-meltdown/biokernsprit?ref=discovery_category_newest',\n",
       " 'https://www.kickstarter.com/projects/736405065/roome-the-worlds-first-gesture-controlled-smart-la?ref=discovery_category_newest',\n",
       " 'https://www.kickstarter.com/projects/1103598543/hustl-n-the-hoodwwwhustlerun?ref=discovery_category_newest',\n",
       " 'https://www.kickstarter.com/projects/waylens/waylens-secure360-with-4g-automotive-security-came?ref=discovery_category_newest',\n",
       " 'https://www.kickstarter.com/projects/1565108296/feed-your-3d-printer?ref=discovery_category_newest',\n",
       " 'https://www.kickstarter.com/projects/ilapis/ilapis?ref=discovery_category_newest',\n",
       " 'https://www.kickstarter.com/projects/tvplustv/tv-plus-tv-fur-dich-und-mich-tv-for-you-and-me?ref=discovery_category_newest',\n",
       " 'https://www.kickstarter.com/projects/29031083/ovie-smarterware-the-first-connected-food-storage?ref=discovery_category_newest',\n",
       " 'https://www.kickstarter.com/projects/2058228729/spinner-power-pack?ref=discovery_category_newest',\n",
       " 'https://www.kickstarter.com/projects/mbajko/anima-the-smartest-reminder-system-based-on-locati?ref=discovery_category_newest',\n",
       " 'https://www.kickstarter.com/projects/1207206433/the-naya-smart-bottle?ref=discovery_category_newest',\n",
       " 'https://www.kickstarter.com/projects/990713703/hellises-290-next-gen-lighting-solution-for-indoor?ref=discovery_category_newest',\n",
       " 'https://www.kickstarter.com/projects/1937541932/kit-a-month-soldering-subscription-with-raspberry?ref=discovery_category_newest',\n",
       " 'https://www.kickstarter.com/projects/voynichexperience/the-voynich-experience?ref=discovery_category_newest',\n",
       " 'https://www.kickstarter.com/projects/westonlombard/online-platform-that-saves-students-money-on-textbooks?ref=discovery_category_newest',\n",
       " 'https://www.kickstarter.com/projects/80444025/16-beat-headphones?ref=discovery_category_newest',\n",
       " 'https://www.kickstarter.com/projects/1898601133/prismcups-check-your-drinks-out?ref=discovery_category_newest',\n",
       " 'https://www.kickstarter.com/projects/eaglelive/follow-x-wireless-follow-focus-aperture-and-camera?ref=discovery_category_newest',\n",
       " 'https://www.kickstarter.com/projects/rysccorp/proxmark-pro-proxmark3-without-a-pc?ref=discovery_category_newest',\n",
       " 'https://www.kickstarter.com/projects/143072809/rhode-island-mini-maker-faire-2016?ref=discovery_category_newest',\n",
       " 'https://www.kickstarter.com/projects/2012189479/the-video-game-collectors-dream-app?ref=discovery_category_newest',\n",
       " 'https://www.kickstarter.com/projects/fidgettech/fidget-tech-hand-spinners-with-a-tech-spin?ref=discovery_category_newest',\n",
       " 'https://www.kickstarter.com/projects/569823700/recordz?ref=discovery_category_newest',\n",
       " 'https://www.kickstarter.com/projects/1076264906/prostbot-21st-century-entertaining?ref=discovery_category_newest',\n",
       " 'https://www.kickstarter.com/projects/1018369369/civil-discovery?ref=discovery_category_newest',\n",
       " 'https://www.kickstarter.com/projects/540068337/polstrat-stage-i?ref=discovery_category_newest',\n",
       " 'https://www.kickstarter.com/projects/751764633/primp-revolutionizing-the-art-of-grooming?ref=discovery_category_newest',\n",
       " 'https://www.kickstarter.com/projects/blindspotgear/tile-light-duo-professional-lighting-on-the-go?ref=discovery_category_newest',\n",
       " 'https://www.kickstarter.com/projects/192023772/network-of-cameras-to-protect-the-rain-forest-braz?ref=discovery_category_newest',\n",
       " 'https://www.kickstarter.com/projects/932558064/priore-machine-development?ref=discovery_category_newest',\n",
       " 'https://www.kickstarter.com/projects/2133777474/nadoticom-needs-financial-assistance?ref=discovery_category_newest',\n",
       " 'https://www.kickstarter.com/projects/kvits/kvits-waiting-for-your-checks-at-restaurants-stops?ref=discovery_category_newest',\n",
       " 'https://www.kickstarter.com/projects/bottlepops/mr-president-talking-bottle-opener?ref=discovery_category_newest',\n",
       " 'https://www.kickstarter.com/projects/servay/servay-ask-everyone-anything?ref=discovery_category_newest',\n",
       " 'https://www.kickstarter.com/projects/lasergun/laser-gadgets?ref=discovery_category_newest',\n",
       " 'https://www.kickstarter.com/projects/papattomaster/is-the-welfare-of-our-pet-important-to-you?ref=discovery_category_newest',\n",
       " 'https://www.kickstarter.com/projects/327069883/carrot-strategies-tools-for-employee-motivation?ref=discovery_category_newest',\n",
       " 'https://www.kickstarter.com/projects/benbowler/audio-the-music-app-for-collectors-and-professionals?ref=discovery_category_newest',\n",
       " 'https://www.kickstarter.com/projects/1118911962/print-next-door-app?ref=discovery_category_newest',\n",
       " 'https://www.kickstarter.com/projects/2079191021/eyeforcer-wearable-tech-that-monitors-kids-posture?ref=discovery_category_newest',\n",
       " 'https://www.kickstarter.com/projects/1443788288/the-progress-app-a-place-for-people-who-disagree?ref=discovery_category_newest',\n",
       " 'https://www.kickstarter.com/projects/432892366/this-app-will-introduce-a-new-media-distribution-m?ref=discovery_category_newest',\n",
       " 'https://www.kickstarter.com/projects/1531560462/somethingtoshare?ref=discovery_category_newest',\n",
       " 'https://www.kickstarter.com/projects/2068534404/elo-is-a-smart-straw-alternative-to-plastic-a-worl-0?ref=discovery_category_newest',\n",
       " 'https://www.kickstarter.com/projects/1958309948/junto-a-new-breed-of-social-media?ref=discovery_category_newest',\n",
       " 'https://www.kickstarter.com/projects/1639151347/create-awesome-websites-and-apps-easier-cheaper-fa?ref=discovery_category_newest',\n",
       " 'https://www.kickstarter.com/projects/984527176/shehacks-boston-nj-to-boston-bus?ref=discovery_category_newest',\n",
       " 'https://www.kickstarter.com/projects/slimbox/slimbox-me-the-out-of-the-box-laser-cutter?ref=discovery_category_newest',\n",
       " 'https://www.kickstarter.com/projects/ebiostatistics/software-for-ethical-authorship-in-medical-journal?ref=discovery_category_newest',\n",
       " 'https://www.kickstarter.com/projects/1232341336/ezyonlinebookings-20-online-booking-system?ref=discovery_category_newest',\n",
       " 'https://www.kickstarter.com/projects/dentspace/dent-space-an-event-about-space-exploration-togeth?ref=discovery_category_newest',\n",
       " 'https://www.kickstarter.com/projects/519368881/twidamer-real-time-twitter-stream-data-miner?ref=discovery_category_newest',\n",
       " 'https://www.kickstarter.com/projects/softpanels/softpanels-led-lights-with-autocolor-for-cine-vide?ref=discovery_category_newest',\n",
       " 'https://www.kickstarter.com/projects/slaytech/slaytech-cable?ref=discovery_category_newest',\n",
       " 'https://www.kickstarter.com/projects/79266108/gn-butler-brings-gastronorm-to-your-home?ref=discovery_category_newest',\n",
       " 'https://www.kickstarter.com/projects/617670618/beforeyourompcom?ref=discovery_category_newest',\n",
       " 'https://www.kickstarter.com/projects/operationps/operation-pop-smoke?ref=discovery_category_newest',\n",
       " 'https://www.kickstarter.com/projects/kidunot89/wpgraphql-woocommerce?ref=discovery_category_newest',\n",
       " 'https://www.kickstarter.com/projects/skeating/makross?ref=discovery_category_newest',\n",
       " 'https://www.kickstarter.com/projects/301806342/time-and-water-conserving-new-pressure-washer-acce?ref=discovery_category_newest',\n",
       " 'https://www.kickstarter.com/projects/381773753/pho-vietnamese-famous-beef-noodle-soup?ref=discovery_category_newest',\n",
       " 'https://www.kickstarter.com/projects/802007522/up-core-the-smallest-quadcore-x86-single-board-com?ref=discovery_category_newest',\n",
       " 'https://www.kickstarter.com/projects/418682416/cottageclass-love-to-learn?ref=discovery_category_newest',\n",
       " 'https://www.kickstarter.com/projects/shoppingknight/shoppingknight-grocery-shopping-app-made-easy?ref=discovery_category_newest',\n",
       " 'https://www.kickstarter.com/projects/1415233260/resist-persist-fight-buyblue?ref=discovery_category_newest',\n",
       " 'https://www.kickstarter.com/projects/783747896/wi-fine4me-wi-fi-you-can-control?ref=discovery_category_newest',\n",
       " 'https://www.kickstarter.com/projects/487950656/sosgeo?ref=discovery_category_newest',\n",
       " 'https://www.kickstarter.com/projects/invanto/invanto-a-continous-evolving-platform-for-business?ref=discovery_category_newest',\n",
       " 'https://www.kickstarter.com/projects/1672975002/robomop-leonardo?ref=discovery_category_newest',\n",
       " 'https://www.kickstarter.com/projects/1268570260/anti-bullying-app?ref=discovery_category_newest',\n",
       " 'https://www.kickstarter.com/projects/kesterkits/kester-kits-build-your-own-mini-drone-kit?ref=discovery_category_newest',\n",
       " 'https://www.kickstarter.com/projects/972650159/the-ultimate-e-commerce-website?ref=discovery_category_newest',\n",
       " 'https://www.kickstarter.com/projects/85280086/kien-light-intelligent-daylight-at-your-fingertips?ref=discovery_category_newest',\n",
       " 'https://www.kickstarter.com/projects/1883112212/fiplife-financial-planning-for-life?ref=discovery_category_newest',\n",
       " 'https://www.kickstarter.com/projects/1917456524/future-belt?ref=discovery_category_newest',\n",
       " 'https://www.kickstarter.com/projects/1090281190/super-powers-cases-tech-device-cases-for-phones-an?ref=discovery_category_newest',\n",
       " 'https://www.kickstarter.com/projects/1552883628/bartgrid-is-the-new-community-to-exchange-experien?ref=discovery_category_newest',\n",
       " 'https://www.kickstarter.com/projects/854865943/cetus3d-at-199-get-all-you-need-to-start-3d-printi?ref=discovery_category_newest',\n",
       " 'https://www.kickstarter.com/projects/1515438047/women-pregnancy-workout-kit-and-app?ref=discovery_category_newest',\n",
       " 'https://www.kickstarter.com/projects/lohn/atos-couch-arm-table-with-phone-stand-for-the-best?ref=discovery_category_newest',\n",
       " 'https://www.kickstarter.com/projects/99748522/roxs-the-interactive-gaming-system-for-kids-and-fa?ref=discovery_category_newest',\n",
       " 'https://www.kickstarter.com/projects/lohntech/for-your-best-relax-get-sota-sofa-table-with-phone?ref=discovery_category_newest',\n",
       " 'https://www.kickstarter.com/projects/lovehumanity/eine-dating-app-fur-menschen-mit-erkrankungen?ref=discovery_category_newest',\n",
       " 'https://www.kickstarter.com/projects/protagonbusiness/protagon-business?ref=discovery_category_newest',\n",
       " 'https://www.kickstarter.com/projects/mission8/mission8-5-in-1-shower-solution-showering-re-imagined?ref=discovery_category_newest',\n",
       " 'https://www.kickstarter.com/projects/1953763755/flare-the-urban-flashlight?ref=discovery_category_newest',\n",
       " 'https://www.kickstarter.com/projects/250958613/suroby-a-world-of-conversations-all-around-you?ref=discovery_category_newest',\n",
       " 'https://www.kickstarter.com/projects/215335484/padbot-t1-a-micro-virtual-independent-telepresence?ref=discovery_category_newest',\n",
       " 'https://www.kickstarter.com/projects/1471372310/homesnipscom?ref=discovery_category_newest',\n",
       " 'https://www.kickstarter.com/projects/aircamera/air-bring-home-movies-back-to-life?ref=discovery_category_newest',\n",
       " 'https://www.kickstarter.com/projects/businettes/businettes-empowering-female-entrepreneurship?ref=discovery_category_newest',\n",
       " 'https://www.kickstarter.com/projects/1980480971/night-life-for-your-perfect-night-out?ref=discovery_category_newest',\n",
       " 'https://www.kickstarter.com/projects/1802574659/socialyk-worlds-1st-saas-based-networking-platform?ref=discovery_category_newest',\n",
       " 'https://www.kickstarter.com/projects/1176619585/coomo-travel?ref=discovery_category_newest',\n",
       " 'https://www.kickstarter.com/projects/979994908/cayden-onesie?ref=discovery_category_newest',\n",
       " 'https://www.kickstarter.com/projects/1648703585/retro-gaming-fpga-expansion-kit?ref=discovery_category_newest',\n",
       " 'https://www.kickstarter.com/projects/antstand/antstand-the-worlds-most-portable-bamboo-laptop-st?ref=discovery_category_newest',\n",
       " 'https://www.kickstarter.com/projects/mkossick/social-media-is-broken-kohort-is-here-to-fix-it?ref=discovery_category_newest',\n",
       " 'https://www.kickstarter.com/projects/mysitesolar/electrical-power-calculator?ref=discovery_category_newest',\n",
       " 'https://www.kickstarter.com/projects/2094829046/tio2-clothing-smart-clothing-for-the-environment?ref=discovery_category_newest',\n",
       " 'https://www.kickstarter.com/projects/656424214/self-charging-electric-cars?ref=discovery_category_newest',\n",
       " 'https://www.kickstarter.com/projects/1836853363/technologic-platform-discover-the-new-future?ref=discovery_category_newest',\n",
       " 'https://www.kickstarter.com/projects/707398383/imoncampus?ref=discovery_category_newest',\n",
       " 'https://www.kickstarter.com/projects/rike/spyra-one-the-next-generation-of-water-guns?ref=discovery_category_newest',\n",
       " 'https://www.kickstarter.com/projects/tibuq/bootcamp-programacion-front-end-online?ref=discovery_category_newest',\n",
       " 'https://www.kickstarter.com/projects/1416120732/yodelup-on-glove-wearable-for-music-and-communicat?ref=discovery_category_newest',\n",
       " 'https://www.kickstarter.com/projects/849847149/artifical-brain-software-research-project?ref=discovery_category_newest',\n",
       " 'https://www.kickstarter.com/projects/hhosaves/hho-the-power-of-water-on-demand-hydrogen-system-g?ref=discovery_category_newest',\n",
       " 'https://www.kickstarter.com/projects/381727268/global-contact-network?ref=discovery_category_newest',\n",
       " 'https://www.kickstarter.com/projects/zitsugen/cheetah-again-never-fall-waterproof-tws-wireless-earbuds?ref=discovery_category_newest',\n",
       " 'https://www.kickstarter.com/projects/skedg/skedg-adventures-on-demand?ref=discovery_category_newest',\n",
       " 'https://www.kickstarter.com/projects/magiccup/magic-cup-auto-mixing-no-battery-no-electricity-required?ref=discovery_category_newest',\n",
       " 'https://www.kickstarter.com/projects/radicalnetworks/radical-networks?ref=discovery_category_newest',\n",
       " 'https://www.kickstarter.com/projects/1754529886/skyqr-cashless-payments-everywhere?ref=discovery_category_newest',\n",
       " 'https://www.kickstarter.com/projects/1947113322/bucky-an-edtech-robot-to-narrow-technology-access?ref=discovery_category_newest',\n",
       " 'https://www.kickstarter.com/projects/urmo/urmo-your-ultra-light-foldable-urban-electric-vehi?ref=discovery_category_newest',\n",
       " 'https://www.kickstarter.com/projects/130738020/fencedin-app?ref=discovery_category_newest',\n",
       " 'https://www.kickstarter.com/projects/whitebored/whitebored-hard-decisions-made-easy?ref=discovery_category_newest',\n",
       " 'https://www.kickstarter.com/projects/557788106/an-american-app-for-patriots?ref=discovery_category_newest',\n",
       " 'https://www.kickstarter.com/projects/1161955508/extend-a-vent-the-last-car-phone-holder-you-will-e?ref=discovery_category_newest',\n",
       " 'https://www.kickstarter.com/projects/1924455647/ub-marz-flyer?ref=discovery_category_newest',\n",
       " 'https://www.kickstarter.com/projects/860131059/css-squeezer?ref=discovery_category_newest',\n",
       " 'https://www.kickstarter.com/projects/comerciodirecto/plataforma-publicitaria-de-compra-venta-y-promocio?ref=discovery_category_newest',\n",
       " 'https://www.kickstarter.com/projects/firstsparkgear/daisho-turn-your-camera-gimbal-into-a-shoulder-rig?ref=discovery_category_newest',\n",
       " 'https://www.kickstarter.com/projects/drevoblademaster/drevo-blademaster-ultimate-keyboard-with-programma?ref=discovery_category_newest',\n",
       " 'https://www.kickstarter.com/projects/alvin-a/sendit-share-product-specific-gift-vouchers?ref=discovery_category_newest',\n",
       " 'https://www.kickstarter.com/projects/hover2/hover-2-the-4k-drone-that-flies-itself?ref=discovery_category_newest',\n",
       " 'https://www.kickstarter.com/projects/539370035/vavylon?ref=discovery_category_newest',\n",
       " 'https://www.kickstarter.com/projects/1566089667/fresh-ups-the-freshest-insole-of-all-time?ref=discovery_category_newest',\n",
       " 'https://www.kickstarter.com/projects/566157638/digital-keyway?ref=discovery_category_newest',\n",
       " 'https://www.kickstarter.com/projects/picra/picra-sticking-block-pixel-art-its-not-a-magnet?ref=discovery_category_newest',\n",
       " 'https://www.kickstarter.com/projects/duckduckgoose/envelope-banking?ref=discovery_category_newest',\n",
       " 'https://www.kickstarter.com/projects/racketstudio/progressive-web-app-startup-for-musicians?ref=discovery_category_newest',\n",
       " 'https://www.kickstarter.com/projects/iicebreakers/iice-breakers?ref=discovery_category_newest',\n",
       " 'https://www.kickstarter.com/projects/0xantman/ticketeame?ref=discovery_category_newest',\n",
       " 'https://www.kickstarter.com/projects/418814998/hoverguitar-worlds-first-invisible-guitar-and-bass?ref=discovery_category_newest',\n",
       " 'https://www.kickstarter.com/projects/createavision/the-dont-ignore-me-app?ref=discovery_category_newest',\n",
       " 'https://www.kickstarter.com/projects/1728237598/piserialixed-raspberry-pi-3-uart-usb-board?ref=discovery_category_newest',\n",
       " 'https://www.kickstarter.com/projects/1587369101/quiubo?ref=discovery_category_newest',\n",
       " 'https://www.kickstarter.com/projects/medibee/medibee-community-support-depression-anxiety-and-p?ref=discovery_category_newest',\n",
       " 'https://www.kickstarter.com/projects/292415317/paws2people?ref=discovery_category_newest',\n",
       " 'https://www.kickstarter.com/projects/1546245067/phonowriter?ref=discovery_category_newest',\n",
       " 'https://www.kickstarter.com/projects/406923546/arttachment-a-creative-app-for-parents?ref=discovery_category_newest',\n",
       " 'https://www.kickstarter.com/projects/292650046/qurator-the-movie-review-and-rating-validator-app?ref=discovery_category_newest',\n",
       " 'https://www.kickstarter.com/projects/laowa/revolutionize-macro-videography-laowa-24mm-f-14-pr?ref=discovery_category_newest',\n",
       " 'https://www.kickstarter.com/projects/robotmissions/robot-missions?ref=discovery_category_newest',\n",
       " 'https://www.kickstarter.com/projects/savemywater/save-my-water-be-a-daily-hero?ref=discovery_category_newest',\n",
       " 'https://www.kickstarter.com/projects/272574013/help-me?ref=discovery_category_newest',\n",
       " 'https://www.kickstarter.com/projects/542490325/clean-stic-toilet-seat-lifter?ref=discovery_category_newest',\n",
       " 'https://www.kickstarter.com/projects/1146556297/nagu?ref=discovery_category_newest',\n",
       " 'https://www.kickstarter.com/projects/364573800/archimedes?ref=discovery_category_newest',\n",
       " 'https://www.kickstarter.com/projects/346047322/digital-beer-coasters?ref=discovery_category_newest',\n",
       " 'https://www.kickstarter.com/projects/1329649298/mejorar-app-para-fomentar-el-mercado-local-en-mexi?ref=discovery_category_newest',\n",
       " 'https://www.kickstarter.com/projects/145350351/cyndr-sentry-the-motion-sensor-for-your-work-and-g?ref=discovery_category_newest',\n",
       " 'https://www.kickstarter.com/projects/jonathanzufi/lifeclock-one-the-escape-from-new-york-inspired-sm?ref=discovery_category_newest',\n",
       " 'https://www.kickstarter.com/projects/285499774/cubevid-a-tube-site-for-your-cube-life?ref=discovery_category_newest',\n",
       " 'https://www.kickstarter.com/projects/871920806/dongle-holder?ref=discovery_category_newest',\n",
       " 'https://www.kickstarter.com/projects/jerseylite/a-wearable-sports-light-to-make-any-cycle-jersey-i?ref=discovery_category_newest',\n",
       " 'https://www.kickstarter.com/projects/3dactionzonestore/3d-store?ref=discovery_category_newest',\n",
       " 'https://www.kickstarter.com/projects/878424150/swapit?ref=discovery_category_newest',\n",
       " 'https://www.kickstarter.com/projects/kizink/kizink?ref=discovery_category_newest',\n",
       " 'https://www.kickstarter.com/projects/akihernandez/free-of-touching-pee-ftp?ref=discovery_category_newest',\n",
       " 'https://www.kickstarter.com/projects/34257246/python-201-intermediate-python?ref=discovery_category_newest',\n",
       " 'https://www.kickstarter.com/projects/djshells/gravity-bluetooth-speaker?ref=discovery_category_newest',\n",
       " 'https://www.kickstarter.com/projects/1872987074/ransomly-a-bluetooth-beacon-to-make-any-room-app-f?ref=discovery_category_newest',\n",
       " 'https://www.kickstarter.com/projects/1713626837/loopa-the-only-microphone-that-lets-you-sing-with?ref=discovery_category_newest',\n",
       " 'https://www.kickstarter.com/projects/800872710/os-ebike-open-source-electric-bicycle-design-you-c?ref=discovery_category_newest',\n",
       " 'https://www.kickstarter.com/projects/852093501/greenr?ref=discovery_category_newest',\n",
       " 'https://www.kickstarter.com/projects/1209829383/spinx-worlds-first-toilet-cleaning-robot?ref=discovery_category_newest',\n",
       " 'https://www.kickstarter.com/projects/financeforcreative/membership-site-for-creative-people-musicdancearti?ref=discovery_category_newest',\n",
       " 'https://www.kickstarter.com/projects/pexiq/gym-buddy-app-funding-to-update-the-existing-app?ref=discovery_category_newest',\n",
       " 'https://www.kickstarter.com/projects/1281207189/auti-smart-for-hololens?ref=discovery_category_newest',\n",
       " 'https://www.kickstarter.com/projects/2059451278/stencil-deck-user-interface-stencils?ref=discovery_category_newest',\n",
       " 'https://www.kickstarter.com/projects/961550418/the-mouse-ledge-the-attachable-mouse-surface-for-y?ref=discovery_category_newest',\n",
       " 'https://www.kickstarter.com/projects/118043437/manufacture-new-color-tikz-tags?ref=discovery_category_newest',\n",
       " 'https://www.kickstarter.com/projects/1959536503/dialympics-global-diabetes-game-iphone-and-android?ref=discovery_category_newest',\n",
       " 'https://www.kickstarter.com/projects/140401839/connectimals-lovable-plush-interchan-toys-with-acc?ref=discovery_category_newest',\n",
       " 'https://www.kickstarter.com/projects/interphaseaudio/interphase-audio-eq8?ref=discovery_category_newest',\n",
       " 'https://www.kickstarter.com/projects/neatscreen/neatscreen-greenscreen-mobile-app-for-the-neatscreen-studio?ref=discovery_category_newest',\n",
       " 'https://www.kickstarter.com/projects/1090670314/hexa-programmable-highly-maneuverable-robot?ref=discovery_category_newest',\n",
       " 'https://www.kickstarter.com/projects/1154582401/backtest-and-auotmation-platform-for-your-trade-id?ref=discovery_category_newest',\n",
       " 'https://www.kickstarter.com/projects/fmpco/cross-wave-a-skier-down-visibility-system?ref=discovery_category_newest',\n",
       " 'https://www.kickstarter.com/projects/simplymarriage/find-a-husband-or-wife-in-30-days?ref=discovery_category_newest',\n",
       " 'https://www.kickstarter.com/projects/thanotech/diskus-the-first-portable-mfi-apple-watch-charger?ref=discovery_category_newest',\n",
       " 'https://www.kickstarter.com/projects/1001117395/easy-programming?ref=discovery_category_newest',\n",
       " 'https://www.kickstarter.com/projects/nosurvivorleftbehind/search2hope?ref=discovery_category_newest',\n",
       " 'https://www.kickstarter.com/projects/736143918/watch-ads-and-get-paid-fattipagareit?ref=discovery_category_newest',\n",
       " 'https://www.kickstarter.com/projects/bungajungle/nope-20-live-free?ref=discovery_category_newest',\n",
       " 'https://www.kickstarter.com/projects/339399807/gestiona-el-consumo-energetico-desde-cualquier-lug?ref=discovery_category_newest',\n",
       " 'https://www.kickstarter.com/projects/dpsskis/phantom-permanent-base-glide-treatment-for-skis-an?ref=discovery_category_newest',\n",
       " 'https://www.kickstarter.com/projects/2145338393/pickmod-mobile-specs-and-custom-rom-in-a-simple-wa?ref=discovery_category_newest',\n",
       " 'https://www.kickstarter.com/projects/bigsamenergy/jazzi-the-fun-gps?ref=discovery_category_newest',\n",
       " 'https://www.kickstarter.com/projects/kyndred/kyn-go-together?ref=discovery_category_newest',\n",
       " 'https://www.kickstarter.com/projects/396495818/automatic-water-pump-for-indoor-plants-15-years-ch?ref=discovery_category_newest',\n",
       " 'https://www.kickstarter.com/projects/583173617/retrostone-ultimate-retrogaming-console?ref=discovery_category_newest',\n",
       " 'https://www.kickstarter.com/projects/1313941949/askalf?ref=discovery_category_newest',\n",
       " 'https://www.kickstarter.com/projects/2052448589/shapeheart-armband-heart-rate-tracking-and-easy-ph?ref=discovery_category_newest',\n",
       " 'https://www.kickstarter.com/projects/ata-aman/rose-east-african-injera-grill?ref=discovery_category_newest',\n",
       " 'https://www.kickstarter.com/projects/bozzou/pinhole-pro-s-worlds-widest-professional-pinhole-l?ref=discovery_category_newest',\n",
       " 'https://www.kickstarter.com/projects/972883324/the-fitness-search-engine?ref=discovery_category_newest',\n",
       " 'https://www.kickstarter.com/projects/1009926578/oneday?ref=discovery_category_newest',\n",
       " 'https://www.kickstarter.com/projects/1207511809/the-worlds-first-anion-emitting-heated-scarf?ref=discovery_category_newest',\n",
       " 'https://www.kickstarter.com/projects/brinedude/care-space-a-social-media-platform-that-cares?ref=discovery_category_newest',\n",
       " 'https://www.kickstarter.com/projects/231216553/siestaroom-helps-you-find-a-room-for-a-one-hour-si?ref=discovery_category_newest',\n",
       " 'https://www.kickstarter.com/projects/1424335230/pocket-quad-pod-compact-remote-controlled-smartpho?ref=discovery_category_newest',\n",
       " 'https://www.kickstarter.com/projects/1524925507/vine-health-your-digital-cancer-companion?ref=discovery_category_newest',\n",
       " 'https://www.kickstarter.com/projects/308560530/flyersstock-easy-online-publising-plattform?ref=discovery_category_newest',\n",
       " 'https://www.kickstarter.com/projects/plalovsky/learn-sql-server-intuitively-transact-sql-the-soli?ref=discovery_category_newest',\n",
       " 'https://www.kickstarter.com/projects/699388471/all-access-treadmill?ref=discovery_category_newest',\n",
       " 'https://www.kickstarter.com/projects/873606805/the-new-matter-mod-t-2nd-gen?ref=discovery_category_newest',\n",
       " 'https://www.kickstarter.com/projects/finalcharge/cable?ref=discovery_category_newest',\n",
       " 'https://www.kickstarter.com/projects/849942672/method-for-licensing-software?ref=discovery_category_newest',\n",
       " 'https://www.kickstarter.com/projects/andysguacbar/the-guac-e-talk-e?ref=discovery_category_newest',\n",
       " 'https://www.kickstarter.com/projects/tlg/led-tactical-and-work-gloves-reinvented?ref=discovery_category_newest',\n",
       " 'https://www.kickstarter.com/projects/dddmaterial/3d-printer-tungsten-premium-nozzle?ref=discovery_category_newest',\n",
       " 'https://www.kickstarter.com/projects/2130289988/lxcnodecom-blazing-fast-lxc-container-virtual-serv?ref=discovery_category_newest',\n",
       " 'https://www.kickstarter.com/projects/1148765081/carbon-fiber-collar-stays?ref=discovery_category_newest',\n",
       " 'https://www.kickstarter.com/projects/alfoto/q-mic-optimally-designed-for-all-types-of-content-creators?ref=discovery_category_newest',\n",
       " 'https://www.kickstarter.com/projects/1420869309/pinnacle-audits-the-worlds-premier-3rd-party-seo-a?ref=discovery_category_newest',\n",
       " 'https://www.kickstarter.com/projects/bungajungle/nope-sound-blocker-and-webcam-cover?ref=discovery_category_newest',\n",
       " 'https://www.kickstarter.com/projects/adventuretape/adventure-tape-the-ultimate-rescue-solution-for-yo?ref=discovery_category_newest',\n",
       " 'https://www.kickstarter.com/projects/904651122/blinq-smart-jewelry-worlds-1st-fine-jewelry-wearab?ref=discovery_category_newest',\n",
       " 'https://www.kickstarter.com/projects/shockwavelabs/projects-in-nodejs-master-mongoose?ref=discovery_category_newest',\n",
       " 'https://www.kickstarter.com/projects/249504031/sparkmaker-fhd-the-most-affordable-fhd-sla-3d-prin?ref=discovery_category_newest',\n",
       " 'https://www.kickstarter.com/projects/1808153940/tous-a-velo-pour-lecolo-all-cycling-for-the-green?ref=discovery_category_newest',\n",
       " 'https://www.kickstarter.com/projects/118190983/showii-the-raffles-app-where-you-can-win-exclusive?ref=discovery_category_newest',\n",
       " 'https://www.kickstarter.com/projects/breezysummer/breezy-the-world-1st-thermo-fabric-automotive-seat?ref=discovery_category_newest',\n",
       " 'https://www.kickstarter.com/projects/1900154672/rewloo-never-lose-your-loyalty-points-again?ref=discovery_category_newest',\n",
       " 'https://www.kickstarter.com/projects/milkstash/milk-stash-breastmilk-management-system?ref=discovery_category_newest',\n",
       " 'https://www.kickstarter.com/projects/1166741506/realspace-make-your-dreams-a-reality?ref=discovery_category_newest',\n",
       " 'https://www.kickstarter.com/projects/1092341030/m-light-3-the-smallest-adjustable-motion-sensor-ni?ref=discovery_category_newest',\n",
       " 'https://www.kickstarter.com/projects/bertpope/awesome-kindness-challenger-positive-social-networking-app?ref=discovery_category_newest',\n",
       " 'https://www.kickstarter.com/projects/beatware/beatware?ref=discovery_category_newest',\n",
       " 'https://www.kickstarter.com/projects/shyld/best-cybersecurity-training?ref=discovery_category_newest',\n",
       " 'https://www.kickstarter.com/projects/berrywear/universal-cycle-visor?ref=discovery_category_newest',\n",
       " 'https://www.kickstarter.com/projects/1979685686/team-trainiac-triathlon-training-platform?ref=discovery_category_newest',\n",
       " 'https://www.kickstarter.com/projects/564144577/hydra3-bike-light-the-ultimate-night-riding-experi?ref=discovery_category_newest',\n",
       " 'https://www.kickstarter.com/projects/1281109994/tmoundcom?ref=discovery_category_newest',\n",
       " 'https://www.kickstarter.com/projects/61718886/sleepion-2-stimulate-the-senses-to-induce-better-s?ref=discovery_category_newest',\n",
       " 'https://www.kickstarter.com/projects/enzofr/alive-music-live-events-in-your-living-room?ref=discovery_category_newest',\n",
       " 'https://www.kickstarter.com/projects/1386209179/procarsaver-safety-for-the-road-ahead?ref=discovery_category_newest',\n",
       " 'https://www.kickstarter.com/projects/70887049/street-parking?ref=discovery_category_newest',\n",
       " 'https://www.kickstarter.com/projects/69460306/the-stars-are-listening?ref=discovery_category_newest',\n",
       " 'https://www.kickstarter.com/projects/418208797/experimental-hover-bike?ref=discovery_category_newest',\n",
       " 'https://www.kickstarter.com/projects/thepeopleapp/popcorn-the-people-app-0?ref=discovery_category_newest',\n",
       " 'https://www.kickstarter.com/projects/1770693040/making-safety-fashionable-with-led-vestpacks?ref=discovery_category_newest',\n",
       " 'https://www.kickstarter.com/projects/410598173/mypi-industrial-strength-raspberry-pi-for-iot-proj?ref=discovery_category_newest',\n",
       " 'https://www.kickstarter.com/projects/iconxlive/icon-x-live-the-next-generation-of-live-concert-st?ref=discovery_category_newest',\n",
       " 'https://www.kickstarter.com/projects/sunclipse/sunclipse-shadow-its-your-skin-protect-it?ref=discovery_category_newest',\n",
       " 'https://www.kickstarter.com/projects/1259220058/veterans-list?ref=discovery_category_newest',\n",
       " 'https://www.kickstarter.com/projects/outcastlabs/izzy?ref=discovery_category_newest',\n",
       " 'https://www.kickstarter.com/projects/853681317/solidprojection-solidworks-to-unity3d-with-substan?ref=discovery_category_newest',\n",
       " 'https://www.kickstarter.com/projects/927692623/dockme?ref=discovery_category_newest',\n",
       " 'https://www.kickstarter.com/projects/1303376337/powerhub-juices-up-your-usb-c-more-ports-more-char?ref=discovery_category_newest',\n",
       " 'https://www.kickstarter.com/projects/sunair/solar-the-missing-low-power-arduino-board-with-gro?ref=discovery_category_newest',\n",
       " 'https://www.kickstarter.com/projects/littleblackbook/little-black-book-0?ref=discovery_category_newest',\n",
       " 'https://www.kickstarter.com/projects/732508269/the-tiny-ts-an-open-sourced-diy-touch-synthesizer?ref=discovery_category_newest',\n",
       " 'https://www.kickstarter.com/projects/523229065/teaching-chemistry-students-to-make-and-use-safer?ref=discovery_category_newest',\n",
       " 'https://www.kickstarter.com/projects/2134795280/aquaclaire?ref=discovery_category_newest',\n",
       " 'https://www.kickstarter.com/projects/plus8/stikk-the-gel-pad-that-will-stick-anything-to-ever?ref=discovery_category_newest',\n",
       " 'https://www.kickstarter.com/projects/edgetechlabs/fret-zeppelin-play-guitar-in-60-seconds?ref=discovery_category_newest',\n",
       " 'https://www.kickstarter.com/projects/955323951/sticky-sounds-insanely-rugged-and-mounts-to-anythi?ref=discovery_category_newest',\n",
       " 'https://www.kickstarter.com/projects/853161317/clarity-an-overflow-for-your-brain?ref=discovery_category_newest',\n",
       " 'https://www.kickstarter.com/projects/553753548/help-support-the-bmt-sonic-box-make-a-splash?ref=discovery_category_newest',\n",
       " 'https://www.kickstarter.com/projects/467094941/fitt360-the-first-360-neckband-wearable-camera?ref=discovery_category_newest',\n",
       " 'https://www.kickstarter.com/projects/navatics-mito/navatics-mito-the-most-stable-underwater-drone?ref=discovery_category_newest',\n",
       " 'https://www.kickstarter.com/projects/2067761922/smart-jacket-for-iphone-and-android-user-hallam-ne?ref=discovery_category_newest',\n",
       " 'https://www.kickstarter.com/projects/samellos/im-back-advance-digital-back-for-35mm-analog-camer?ref=discovery_category_newest',\n",
       " 'https://www.kickstarter.com/projects/nicholasbarry/get-in-touch-web-app?ref=discovery_category_newest',\n",
       " 'https://www.kickstarter.com/projects/shockwavelabs/angular-4-mastery-build-9-apps?ref=discovery_category_newest',\n",
       " 'https://www.kickstarter.com/projects/1007192853/back-to-the-street-boyz-red-bull-flugtag-nashville?ref=discovery_category_newest',\n",
       " 'https://www.kickstarter.com/projects/1586008416/burning-domes?ref=discovery_category_newest',\n",
       " 'https://www.kickstarter.com/projects/190163941/unyte-interactive-meditation?ref=discovery_category_newest',\n",
       " 'https://www.kickstarter.com/projects/1169204165/meet-geolocated-meeting-application-without-regist?ref=discovery_category_newest',\n",
       " 'https://www.kickstarter.com/projects/89566942/help-fund-productivity-app-for-windows-10-elitenot?ref=discovery_category_newest',\n",
       " 'https://www.kickstarter.com/projects/thetetherco/tether-0?ref=discovery_category_newest',\n",
       " 'https://www.kickstarter.com/projects/958280950/hoverplate-the-worlds-best-iphone-car-mount?ref=discovery_category_newest',\n",
       " 'https://www.kickstarter.com/projects/1308642275/fashion-loves-technology-lamour-the-connected-heat?ref=discovery_category_newest',\n",
       " 'https://www.kickstarter.com/projects/nextgenheadphones/new-generation-noise-canceling-headphones-prototyp?ref=discovery_category_newest',\n",
       " 'https://www.kickstarter.com/projects/862048718/scratchycad-parametric-3d-design-software-for-ever?ref=discovery_category_newest',\n",
       " 'https://www.kickstarter.com/projects/playahead/ahead-turn-any-helmet-into-a-smart-helmet?ref=discovery_category_newest',\n",
       " 'https://www.kickstarter.com/projects/1531200618/multi-mobility-social-network-for-all-communities?ref=discovery_category_newest',\n",
       " 'https://www.kickstarter.com/projects/vegetronix/vegehub-wifi-garden-sensor-hub?ref=discovery_category_newest',\n",
       " 'https://www.kickstarter.com/projects/458748948/wedraw-intelligent-game-bot-guide-kids-to-learn-by?ref=discovery_category_newest',\n",
       " 'https://www.kickstarter.com/projects/rememberlenny/new-public-art-foundation-a-genealogy-of-public-st?ref=discovery_category_newest',\n",
       " 'https://www.kickstarter.com/projects/luxebluetooth/l-u-x-e-bluetooth-bluetooth-enabled-wearable-ear-c?ref=discovery_category_newest',\n",
       " 'https://www.kickstarter.com/projects/3d-high-resolution/3d-jewelry-scanner-shadow-bands-heirloom-gemstone?ref=discovery_category_newest',\n",
       " 'https://www.kickstarter.com/projects/vigek/vigek-makes-smart-home-easier?ref=discovery_category_newest',\n",
       " 'https://www.kickstarter.com/projects/1446213685/borofone-be10-transformer-wireless-earphone?ref=discovery_category_newest',\n",
       " 'https://www.kickstarter.com/projects/engenuitylabs/tink-kits?ref=discovery_category_newest',\n",
       " 'https://www.kickstarter.com/projects/1990956754/signalwear-worlds-first-smart-motorcycle-gloves-fo?ref=discovery_category_newest',\n",
       " 'https://www.kickstarter.com/projects/1784138442/the-worlds-most-premium-headphones-with-pure-sound?ref=discovery_category_newest',\n",
       " 'https://www.kickstarter.com/projects/gdumortier/lavie-unlimited-pure-mineral-water-with-unbeatable?ref=discovery_category_newest',\n",
       " 'https://www.kickstarter.com/projects/753370581/motortalk-bringing-electirc-motors-into-the-digita?ref=discovery_category_newest',\n",
       " 'https://www.kickstarter.com/projects/862091296/your-solar-usb-kit?ref=discovery_category_newest',\n",
       " 'https://www.kickstarter.com/projects/874494597/amazing-picture-box?ref=discovery_category_newest',\n",
       " 'https://www.kickstarter.com/projects/172204344/the-laser-grid-and-paintball-target-practice-multi?ref=discovery_category_newest',\n",
       " 'https://www.kickstarter.com/projects/589617554/pisa-light-worlds-smallest-rechargeable-flashlight?ref=discovery_category_newest',\n",
       " 'https://www.kickstarter.com/projects/1801020535/create-your-own-portable-chatbot-crea-un-chatbot-p?ref=discovery_category_newest',\n",
       " 'https://www.kickstarter.com/projects/1897600141/untitled-app-with-panda-logo?ref=discovery_category_newest',\n",
       " 'https://www.kickstarter.com/projects/rylandgoldman/phone-by-mako?ref=discovery_category_newest',\n",
       " 'https://www.kickstarter.com/projects/2050989522/expansion-of-my-social-network-wwwcollegehitchcom?ref=discovery_category_newest',\n",
       " 'https://www.kickstarter.com/projects/1670141681/petscrub-waterless-bath?ref=discovery_category_newest',\n",
       " 'https://www.kickstarter.com/projects/camorama/camorama-the-4k-action-vr-and-360-degree-cam-made?ref=discovery_category_newest',\n",
       " 'https://www.kickstarter.com/projects/1833749126/picture-hebrew-flashcard-app?ref=discovery_category_newest',\n",
       " 'https://www.kickstarter.com/projects/wefish/disfruta-de-la-pesca-deportiva?ref=discovery_category_newest',\n",
       " 'https://www.kickstarter.com/projects/1951706173/mooserboards-50km-h-high-speed-electric-longboard?ref=discovery_category_newest',\n",
       " 'https://www.kickstarter.com/projects/120758580/ecogarden-the-worlds-smartest-interactive-ecosyste?ref=discovery_category_newest',\n",
       " 'https://www.kickstarter.com/projects/1071259754/smacktaunt?ref=discovery_category_newest',\n",
       " 'https://www.kickstarter.com/projects/181628677/k2-tree-klimbers?ref=discovery_category_newest',\n",
       " 'https://www.kickstarter.com/projects/re3d/gigabot-x-your-direct-pellet-extrusion-3d-printer?ref=discovery_category_newest',\n",
       " 'https://www.kickstarter.com/projects/1873566879/alarma-por-localizacion-y-explorador-de-rutas-de-c?ref=discovery_category_newest',\n",
       " 'https://www.kickstarter.com/projects/ambi-labs/ambi-climate-2-ai-enhanced-air-conditioning-comfor?ref=discovery_category_newest',\n",
       " 'https://www.kickstarter.com/projects/crosslances/rough-and-tumble-a-3d-horde?ref=discovery_category_newest',\n",
       " 'https://www.kickstarter.com/projects/againsttrumpsingles/against-trump-singles?ref=discovery_category_newest',\n",
       " 'https://www.kickstarter.com/projects/stopthetraffic/stop-the-traffic?ref=discovery_category_newest',\n",
       " 'https://www.kickstarter.com/projects/2047207582/images-and-words-3d-photos-and-prose-come-together?ref=discovery_category_newest',\n",
       " 'https://www.kickstarter.com/projects/freedomgate/freedomgate-the-alternate-search-engine-app-and-we?ref=discovery_category_newest',\n",
       " 'https://www.kickstarter.com/projects/1760518185/are-you-okay?ref=discovery_category_newest',\n",
       " 'https://www.kickstarter.com/projects/959546860/nash-operating-system?ref=discovery_category_newest',\n",
       " 'https://www.kickstarter.com/projects/bagel-labs/bagel-the-worlds-smartest-tape-measure?ref=discovery_category_newest',\n",
       " 'https://www.kickstarter.com/projects/37876150/myqrpage-your-mini-webpage-through-a-qr-code?ref=discovery_category_newest',\n",
       " 'https://www.kickstarter.com/projects/archoncharging/archon-the-invisible-wireless-charger?ref=discovery_category_newest',\n",
       " 'https://www.kickstarter.com/projects/701636885/slights-stair-lights-led-lights-for-your-stairs?ref=discovery_category_newest',\n",
       " 'https://www.kickstarter.com/projects/755689218/lively-town?ref=discovery_category_newest',\n",
       " 'https://www.kickstarter.com/projects/155431065/a-better-mousetrap-system?ref=discovery_category_newest',\n",
       " 'https://www.kickstarter.com/projects/tyree-mcpherson/playercard-a-gaming-website-for-all-gamers?ref=discovery_category_newest',\n",
       " 'https://www.kickstarter.com/projects/341336269/the-side-kick-by-fuse-collapsible-laptop-charger-w?ref=discovery_category_newest',\n",
       " 'https://www.kickstarter.com/projects/413104318/us-national-politics?ref=discovery_category_newest',\n",
       " 'https://www.kickstarter.com/projects/174808720/maputnik-visual-map-editor-for-mapbox-gl?ref=discovery_category_newest',\n",
       " 'https://www.kickstarter.com/projects/shellrus/sapphire-x2?ref=discovery_category_newest',\n",
       " 'https://www.kickstarter.com/projects/1334796783/moon-buy-and-sell-shoes-apparel?ref=discovery_category_newest',\n",
       " 'https://www.kickstarter.com/projects/2018775666/from-design-to-code?ref=discovery_category_newest',\n",
       " 'https://www.kickstarter.com/projects/1346857451/pixel-change-your-wi-fi-game-forever?ref=discovery_category_newest',\n",
       " 'https://www.kickstarter.com/projects/1178635096/monikos-inc?ref=discovery_category_newest',\n",
       " 'https://www.kickstarter.com/projects/nootproducts/noot-products-a319-wireless-over-ear-headphone?ref=discovery_category_newest',\n",
       " 'https://www.kickstarter.com/projects/ue2ue/the-breakfast-race-to-florida-governor?ref=discovery_category_newest',\n",
       " 'https://www.kickstarter.com/projects/2056264679/the-2018-procedural-generation-jam?ref=discovery_category_newest',\n",
       " 'https://www.kickstarter.com/projects/1540240985/calendar-watch?ref=discovery_category_newest',\n",
       " 'https://www.kickstarter.com/projects/1376747764/thermo-drone-advancing-inspection-for-civil-engine?ref=discovery_category_newest',\n",
       " 'https://www.kickstarter.com/projects/1914488125/carbon-dating-app?ref=discovery_category_newest',\n",
       " 'https://www.kickstarter.com/projects/thebarriermethod/sick-of-getting-sick-while-traveling-your-health-m?ref=discovery_category_newest',\n",
       " 'https://www.kickstarter.com/projects/93517211/chicso-the-most-affordable-and-portable-fingerprin?ref=discovery_category_newest',\n",
       " 'https://www.kickstarter.com/projects/worldwidemeetup/make-new-connections-worldwide-and-meetup-in-great?ref=discovery_category_newest',\n",
       " 'https://www.kickstarter.com/projects/1225407650/up-the-smart-light-for-healthier-sleep-wake-cycle?ref=discovery_category_newest',\n",
       " 'https://www.kickstarter.com/projects/1672378622/3d-gloop?ref=discovery_category_newest',\n",
       " 'https://www.kickstarter.com/projects/1186620431/uchip-arduino-zero-compatible-in-a-narrow-dip-16-p?ref=discovery_category_newest',\n",
       " 'https://www.kickstarter.com/projects/qoo2qoo/qoo-bracelet-offline-social-media-share-not-connec?ref=discovery_category_newest',\n",
       " 'https://www.kickstarter.com/projects/1538287584/phytl-signs-explorer-the-worlds-first-wearable-for?ref=discovery_category_newest',\n",
       " 'https://www.kickstarter.com/projects/1777899625/the-back-9?ref=discovery_category_newest',\n",
       " 'https://www.kickstarter.com/projects/gotube/gotube-the-worlds-most-portable-electric-scooter?ref=discovery_category_newest',\n",
       " 'https://www.kickstarter.com/projects/sobersidekick/the-sober-sidekick-app-lets-fight-addiction-as-a-t?ref=discovery_category_newest',\n",
       " 'https://www.kickstarter.com/projects/2113591377/nabiday-the-day-you-feel-butterflies-in-your-stoma?ref=discovery_category_newest',\n",
       " 'https://www.kickstarter.com/projects/630863857/jkarch?ref=discovery_category_newest',\n",
       " 'https://www.kickstarter.com/projects/vico/v-search?ref=discovery_category_newest',\n",
       " 'https://www.kickstarter.com/projects/1064783096/the-anniversary-clock?ref=discovery_category_newest',\n",
       " 'https://www.kickstarter.com/projects/1669393486/bitflux?ref=discovery_category_newest',\n",
       " 'https://www.kickstarter.com/projects/1871807529/momente-zum-teilen?ref=discovery_category_newest',\n",
       " 'https://www.kickstarter.com/projects/sunbeltaudiollc/sunbelt-audio-equipment-fund?ref=discovery_category_newest',\n",
       " 'https://www.kickstarter.com/projects/322853791/makersmiths-purcellville?ref=discovery_category_newest',\n",
       " 'https://www.kickstarter.com/projects/autohold/autoholdan-automatic-machine-on-your-desk-0?ref=discovery_category_newest',\n",
       " 'https://www.kickstarter.com/projects/soundbounce/sound-bounce-sound-absorbing-technology?ref=discovery_category_newest',\n",
       " 'https://www.kickstarter.com/projects/1002957954/toyota-supra-v160-161-transmission-parts-manufactu?ref=discovery_category_newest',\n",
       " 'https://www.kickstarter.com/projects/1433751888/twee-the-family-tree-for-business?ref=discovery_category_newest',\n",
       " 'https://www.kickstarter.com/projects/319813193/amazon-enterprise-software-a-new-age-of-entrepenuership?ref=discovery_category_newest',\n",
       " 'https://www.kickstarter.com/projects/2854655/bar-tabs?ref=discovery_category_newest',\n",
       " 'https://www.kickstarter.com/projects/1785324708/stat-bliss?ref=discovery_category_newest',\n",
       " 'https://www.kickstarter.com/projects/2073521998/sports-fan-solution-to-score-spoiler-pollution?ref=discovery_category_newest',\n",
       " 'https://www.kickstarter.com/projects/653213333/the-source-backup-power-supply?ref=discovery_category_newest',\n",
       " 'https://www.kickstarter.com/projects/1289884842/circasolar?ref=discovery_category_newest',\n",
       " 'https://www.kickstarter.com/projects/1855079651/affordable-top-of-the-line-electric-skateboard?ref=discovery_category_newest',\n",
       " 'https://www.kickstarter.com/projects/159087700/mangos-ring?ref=discovery_category_newest',\n",
       " 'https://www.kickstarter.com/projects/gearsupplyco/gear-supply-co-guitar-pedals?ref=discovery_category_newest',\n",
       " 'https://www.kickstarter.com/projects/489033307/microjib-3-innovative-products-for-your-gopro?ref=discovery_category_newest',\n",
       " 'https://www.kickstarter.com/projects/nt-smd-rgb/audio-spectrum-analyzer-with-in-9-tubes-called-nixielyzer?ref=discovery_category_newest',\n",
       " 'https://www.kickstarter.com/projects/waterfallsocial/waterfall-social?ref=discovery_category_newest',\n",
       " 'https://www.kickstarter.com/projects/eduonix/master-software-engineering-in-javascript?ref=discovery_category_newest',\n",
       " 'https://www.kickstarter.com/projects/1572264254/mix-amore-a-global-multicultural-and-interracial-d?ref=discovery_category_newest',\n",
       " 'https://www.kickstarter.com/projects/873263862/hidizs-dh1000-worlds-first-truly-dual-balanced-amp?ref=discovery_category_newest',\n",
       " 'https://www.kickstarter.com/projects/1951664922/aida?ref=discovery_category_newest',\n",
       " 'https://www.kickstarter.com/projects/olsencable/the-true-universal-charging-cable?ref=discovery_category_newest',\n",
       " 'https://www.kickstarter.com/projects/peterarlein/mountainflow-north-americas-only-plant-based-ski-wax?ref=discovery_category_newest',\n",
       " 'https://www.kickstarter.com/projects/stevewarren/magicdock?ref=discovery_category_newest',\n",
       " 'https://www.kickstarter.com/projects/49286728/python-away-the-sucky-parts-of-your-job?ref=discovery_category_newest',\n",
       " 'https://www.kickstarter.com/projects/1568118234/1st-in-the-uk-community-based-network-for-busy-par?ref=discovery_category_newest',\n",
       " 'https://www.kickstarter.com/projects/1348567444/spin-the-gyroscopic-spintop?ref=discovery_category_newest',\n",
       " 'https://www.kickstarter.com/projects/426662077/modular-drone?ref=discovery_category_newest',\n",
       " 'https://www.kickstarter.com/projects/397499403/be-an-author-app?ref=discovery_category_newest',\n",
       " 'https://www.kickstarter.com/projects/1084006410/big-data-for-small-business-data-analytics-tutoria?ref=discovery_category_newest',\n",
       " 'https://www.kickstarter.com/projects/907349876/budgetplan-budget-like-a-boss?ref=discovery_category_newest',\n",
       " 'https://www.kickstarter.com/projects/versa-relief-wrap/the-versarelief-wrap-system?ref=discovery_category_newest',\n",
       " 'https://www.kickstarter.com/projects/330251436/scotlands-independent-space-exploration-team-siset?ref=discovery_category_newest',\n",
       " 'https://www.kickstarter.com/projects/1353015665/memento-vivere?ref=discovery_category_newest',\n",
       " 'https://www.kickstarter.com/projects/1125442306/the-lead-sports-media?ref=discovery_category_newest',\n",
       " 'https://www.kickstarter.com/projects/1313451475/advanced-programmable-motorcycle-turn-signals?ref=discovery_category_newest',\n",
       " 'https://www.kickstarter.com/projects/590284091/magic-tee?ref=discovery_category_newest',\n",
       " 'https://www.kickstarter.com/projects/1424716448/parral-dev-board?ref=discovery_category_newest',\n",
       " 'https://www.kickstarter.com/projects/1558673518/ezshoveltm-stand-straighter-less-bending?ref=discovery_category_newest',\n",
       " 'https://www.kickstarter.com/projects/lstn/volume-limited-headphones-for-kids?ref=discovery_category_newest',\n",
       " 'https://www.kickstarter.com/projects/625434851/upwire-news-positive-and-uplifting-news?ref=discovery_category_newest',\n",
       " 'https://www.kickstarter.com/projects/496500914/latch-catch-hotel-door-safety-hotel-door-lock?ref=discovery_category_newest',\n",
       " 'https://www.kickstarter.com/projects/technochic/electric-embellishments-diy-light-up-paper-flower?ref=discovery_category_newest',\n",
       " 'https://www.kickstarter.com/projects/beachcaddy/beach-caddy-worlds-first-app-and-service-for-beach?ref=discovery_category_newest',\n",
       " 'https://www.kickstarter.com/projects/clayxyz/clayxyz-desktop-3d-clay-printer-create-your-own-ar?ref=discovery_category_newest',\n",
       " 'https://www.kickstarter.com/projects/556113774/digitizing-snippets-for-the-k-5-math-classroom?ref=discovery_category_newest',\n",
       " 'https://www.kickstarter.com/projects/2085451053/quick-leash-the-leash-thats-always-with-your-dog?ref=discovery_category_newest',\n",
       " 'https://www.kickstarter.com/projects/james1thirds/nearby-live-events-group-chat-feature-for-my-app-hereme?ref=discovery_category_newest',\n",
       " 'https://www.kickstarter.com/projects/246637562/3d-printed-silicone-chocolate-mould-with-your-own?ref=discovery_category_newest',\n",
       " 'https://www.kickstarter.com/projects/meetnightingale/nightingale-the-first-smart-home-sleep-system?ref=discovery_category_newest',\n",
       " 'https://www.kickstarter.com/projects/currentxchange/cxc-music-a-global-map-of-local-music?ref=discovery_category_newest',\n",
       " 'https://www.kickstarter.com/projects/921743242/the-crypto-tracker-the-ultimate-portfolio-tracker?ref=discovery_category_newest',\n",
       " 'https://www.kickstarter.com/projects/869887015/bojra?ref=discovery_category_newest',\n",
       " 'https://www.kickstarter.com/projects/picturesong/picture-song?ref=discovery_category_newest',\n",
       " 'https://www.kickstarter.com/projects/guise/empower-your-privacy-with-guise?ref=discovery_category_newest',\n",
       " 'https://www.kickstarter.com/projects/634544150/motorisons-les-automotrices-et-autorails-atlas?ref=discovery_category_newest',\n",
       " 'https://www.kickstarter.com/projects/anomalywc/sunrisergb-a-compact-reprogrammable-ws2812b-controller?ref=discovery_category_newest',\n",
       " 'https://www.kickstarter.com/projects/2069675351/making-your-wishes-come-true-new-kind-of-goal-sett?ref=discovery_category_newest',\n",
       " 'https://www.kickstarter.com/projects/sharkklabs/twins-the-most-affordable-wireless-surround-sound?ref=discovery_category_newest',\n",
       " 'https://www.kickstarter.com/projects/myvirtualroots/virtual-reality-family-app?ref=discovery_category_newest',\n",
       " 'https://www.kickstarter.com/projects/5415370/creative-student-funding?ref=discovery_category_newest',\n",
       " 'https://www.kickstarter.com/projects/eozaudio/eoz-one-the-most-stylish-bluetooth-earphones-ever?ref=discovery_category_newest',\n",
       " 'https://www.kickstarter.com/projects/1067532039/bridging-the-wireless-manufacturing-gap?ref=discovery_category_newest',\n",
       " 'https://www.kickstarter.com/projects/maceffects/injection-molded-clear-case-for-apple-macintosh-ma?ref=discovery_category_newest',\n",
       " 'https://www.kickstarter.com/projects/beamready/smart-fire-rescue-assistance-system?ref=discovery_category_newest',\n",
       " 'https://www.kickstarter.com/projects/1693031575/mowbuddy-0?ref=discovery_category_newest',\n",
       " 'https://www.kickstarter.com/projects/282337904/ivey?ref=discovery_category_newest',\n",
       " 'https://www.kickstarter.com/projects/1116368506/evercam-the-wirefree-security-cam-with-365-day-bat?ref=discovery_category_newest',\n",
       " 'https://www.kickstarter.com/projects/flipstik/flipstik-stick-and-mount-anything-everywhere?ref=discovery_category_newest',\n",
       " 'https://www.kickstarter.com/projects/3dkitbash/skull-wars-skulls-from-a-galaxy-really-really-far?ref=discovery_category_newest',\n",
       " 'https://www.kickstarter.com/projects/borroup/borroup-local-peer-to-peer-rental-community?ref=discovery_category_newest',\n",
       " 'https://www.kickstarter.com/projects/playshifu/plugo-an-immersive-educational-ar-gaming-system?ref=discovery_category_newest',\n",
       " 'https://www.kickstarter.com/projects/mypurmist2/mypurmist-2-personal-humidifier-and-air-purifier?ref=discovery_category_newest',\n",
       " 'https://www.kickstarter.com/projects/sidelinesos/sideline-sos-community-based-ridesharing-for-youth?ref=discovery_category_newest',\n",
       " 'https://www.kickstarter.com/projects/495031001/beltsiea-better-way-to-video-chat?ref=discovery_category_newest',\n",
       " 'https://www.kickstarter.com/projects/1965061880/complete-home-tool-set-printable-stl-file?ref=discovery_category_newest',\n",
       " 'https://www.kickstarter.com/projects/challengemeapp/challengeme-the-future-of-competitive-fitness?ref=discovery_category_newest',\n",
       " 'https://www.kickstarter.com/projects/912186872/birdloadcom-premiumlink-generator?ref=discovery_category_newest',\n",
       " 'https://www.kickstarter.com/projects/986636176/heat-experience-core-series-battery-heated-gloves?ref=discovery_category_newest',\n",
       " 'https://www.kickstarter.com/projects/apexduo/apexduo-21st-century-razor-that-shaves-60-faster?ref=discovery_category_newest',\n",
       " 'https://www.kickstarter.com/projects/underclothes/underclothes?ref=discovery_category_newest',\n",
       " 'https://www.kickstarter.com/projects/674722423/station-house-recording-studio?ref=discovery_category_newest',\n",
       " 'https://www.kickstarter.com/projects/1943741476/g-bot-open-source-golf-ball-retrieving-robot?ref=discovery_category_newest',\n",
       " 'https://www.kickstarter.com/projects/568781670/infinite-studio-community-forums?ref=discovery_category_newest',\n",
       " 'https://www.kickstarter.com/projects/1783174650/first-aid-training?ref=discovery_category_newest',\n",
       " 'https://www.kickstarter.com/projects/iniebelt/inie-belt-smart-and-fashionable-belt-monitors-your?ref=discovery_category_newest',\n",
       " 'https://www.kickstarter.com/projects/ichargeitaly/ipocketcharge-the-powerbank-for-all-your-needs?ref=discovery_category_newest',\n",
       " 'https://www.kickstarter.com/projects/sircles/sircles-caring-sharing?ref=discovery_category_newest',\n",
       " 'https://www.kickstarter.com/projects/escapecalendar/escape-calendar?ref=discovery_category_newest',\n",
       " 'https://www.kickstarter.com/projects/823303879/fully-independent-insurance-comparison?ref=discovery_category_newest',\n",
       " 'https://www.kickstarter.com/projects/voltageguitars/voltage-guitars?ref=discovery_category_newest',\n",
       " 'https://www.kickstarter.com/projects/1918484772/the-ultimate-chemistry-calculator-part-1?ref=discovery_category_newest',\n",
       " 'https://www.kickstarter.com/projects/84565574/titanium-wristwatch-with-sit-and-holistic-properti?ref=discovery_category_newest',\n",
       " 'https://www.kickstarter.com/projects/909840075/eventmate-app-network-your-dreams-to-reality?ref=discovery_category_newest',\n",
       " 'https://www.kickstarter.com/projects/172204344/the-arduino-compatible-rfid-reader-module-with-eep?ref=discovery_category_newest',\n",
       " 'https://www.kickstarter.com/projects/lookwatch/look-watch-first-iot-integrated-standalone-smartwa?ref=discovery_category_newest',\n",
       " 'https://www.kickstarter.com/projects/217587494/ubiqvision?ref=discovery_category_newest',\n",
       " 'https://www.kickstarter.com/projects/70882065/poweroak-k2-solar-powerbank?ref=discovery_category_newest',\n",
       " 'https://www.kickstarter.com/projects/1623255426/fps1000hd?ref=discovery_category_newest',\n",
       " 'https://www.kickstarter.com/projects/469247665/disband-llc-0?ref=discovery_category_newest',\n",
       " 'https://www.kickstarter.com/projects/eyeque/eyeque-insight-fastest-easiest-diy-20-20-vision-sc?ref=discovery_category_newest',\n",
       " 'https://www.kickstarter.com/projects/172204344/the-arduino-e-z-comms-shield-our-30th-kickstarter?ref=discovery_category_newest',\n",
       " 'https://www.kickstarter.com/projects/melbel/pico-the-worlds-smallest-arduino-board?ref=discovery_category_newest',\n",
       " 'https://www.kickstarter.com/projects/231779594/voladd-the-first-fully-integrated-3d-printer?ref=discovery_category_newest',\n",
       " 'https://www.kickstarter.com/projects/1244868078/bd-5-weather-research-jet?ref=discovery_category_newest',\n",
       " 'https://www.kickstarter.com/projects/1206849453/turtlestitch?ref=discovery_category_newest',\n",
       " 'https://www.kickstarter.com/projects/nextime/nextime?ref=discovery_category_newest',\n",
       " 'https://www.kickstarter.com/projects/718188669/collectible-card-alert-application?ref=discovery_category_newest',\n",
       " 'https://www.kickstarter.com/projects/1647124460/solar-pi-platter?ref=discovery_category_newest',\n",
       " 'https://www.kickstarter.com/projects/967612940/sellegg-start-up-classified-site?ref=discovery_category_newest',\n",
       " 'https://www.kickstarter.com/projects/jamesxc/ultra-versatile-telephoto-lens-redcat-250mm-f-49?ref=discovery_category_newest',\n",
       " 'https://www.kickstarter.com/projects/bnbe/piksey-the-worlds-smallest-arduino-328-core?ref=discovery_category_newest',\n",
       " 'https://www.kickstarter.com/projects/nt-smd-rgb/magilyzer-mk-ii-analog-audio-spectrum-analyzer?ref=discovery_category_newest',\n",
       " 'https://www.kickstarter.com/projects/761657475/aerolib-exchange-online-marketplace-for-physician?ref=discovery_category_newest',\n",
       " 'https://www.kickstarter.com/projects/2055382896/hiredyoucom?ref=discovery_category_newest',\n",
       " 'https://www.kickstarter.com/projects/thestubborndev/analysis-of-satellite-images-that-may-show-debris?ref=discovery_category_newest',\n",
       " 'https://www.kickstarter.com/projects/1872796784/future-bot-innovators-new-robot-construction-2016?ref=discovery_category_newest',\n",
       " 'https://www.kickstarter.com/projects/1282591671/binge-it-app-find-the-cheapest-way-to-stream-shows?ref=discovery_category_newest',\n",
       " 'https://www.kickstarter.com/projects/920666116/pramrolla-series-2-fully-mobile-battery-powered-mo?ref=discovery_category_newest',\n",
       " 'https://www.kickstarter.com/projects/1143708961/sleepman-the-first-sleep-enhancement-and-fatigue-a?ref=discovery_category_newest',\n",
       " 'https://www.kickstarter.com/projects/1327597961/better-support-for-mt7620a-n-in-openwrt-lede?ref=discovery_category_newest',\n",
       " 'https://www.kickstarter.com/projects/531753070/talkal-worldwide-conversation?ref=discovery_category_newest',\n",
       " 'https://www.kickstarter.com/projects/1858472663/aiper-flash-150w-the-most-reliable-portable-power?ref=discovery_category_newest',\n",
       " 'https://www.kickstarter.com/projects/995025018/fishing-rod-with-a-measurements-on-it-for-safe-fis?ref=discovery_category_newest',\n",
       " 'https://www.kickstarter.com/projects/757027001/howmath-learn-math-online?ref=discovery_category_newest',\n",
       " 'https://www.kickstarter.com/projects/1544407213/a-smart-piggy-bank-to-teach-kids-about-money?ref=discovery_category_newest',\n",
       " 'https://www.kickstarter.com/projects/843284862/sportschat?ref=discovery_category_newest',\n",
       " 'https://www.kickstarter.com/projects/blickhan/favowear-shopping-for-your-favorite-clothes-made-s?ref=discovery_category_newest',\n",
       " 'https://www.kickstarter.com/projects/1502533546/ceramicsounds?ref=discovery_category_newest',\n",
       " 'https://www.kickstarter.com/projects/2128976526/linner-your-first-time-anc-headphonesnow-and-for-a?ref=discovery_category_newest',\n",
       " 'https://www.kickstarter.com/projects/267035208/want-music-when-you-are-swimming-check-waveport?ref=discovery_category_newest',\n",
       " 'https://www.kickstarter.com/projects/1862970190/live-traffic-in-car-gps-devices-on-license-plates?ref=discovery_category_newest',\n",
       " 'https://www.kickstarter.com/projects/620707570/sales-agent-payment-system?ref=discovery_category_newest',\n",
       " 'https://www.kickstarter.com/projects/805759312/ontap-revolutionising-the-night-out?ref=discovery_category_newest',\n",
       " 'https://www.kickstarter.com/projects/481923650/netzwall-first-affordable-viruswall-solution-for-e?ref=discovery_category_newest',\n",
       " 'https://www.kickstarter.com/projects/686608668/ridm-professional-grade-body-composition-analysis?ref=discovery_category_newest',\n",
       " 'https://www.kickstarter.com/projects/17452324/the-ultimate-registration-portal-for-kids-activiti?ref=discovery_category_newest',\n",
       " 'https://www.kickstarter.com/projects/901234039/the-future-of-guitar-pickups?ref=discovery_category_newest',\n",
       " 'https://www.kickstarter.com/projects/bagel-labs/pie-smart-tape-measure-for-your-body?ref=discovery_category_newest',\n",
       " 'https://www.kickstarter.com/projects/1815752970/ceres-hybrid-tube-amp?ref=discovery_category_newest',\n",
       " 'https://www.kickstarter.com/projects/land-boards/arduino-raspberry-pi-prototype-i-o-card?ref=discovery_category_newest',\n",
       " 'https://www.kickstarter.com/projects/1459933993/interventionville-revolutionizing-addiction-medici?ref=discovery_category_newest',\n",
       " 'https://www.kickstarter.com/projects/1313728045/remeo-a-resume-sharing-platform-for-students?ref=discovery_category_newest',\n",
       " 'https://www.kickstarter.com/projects/omixlab/panopainter-paint-and-animate-in-360?ref=discovery_category_newest',\n",
       " 'https://www.kickstarter.com/projects/blueberryboards/the-blueberry-board-a-diy-mechanical-keyboard-kit?ref=discovery_category_newest',\n",
       " 'https://www.kickstarter.com/projects/100214830/paw-union-network-a-harbour-of-hope-for-domestic-a?ref=discovery_category_newest',\n",
       " 'https://www.kickstarter.com/projects/1829756996/learn-modular-synthesizer-building?ref=discovery_category_newest',\n",
       " 'https://www.kickstarter.com/projects/powerpod/aeropod-power-and-aerodynamic-cda-measurement-for?ref=discovery_category_newest',\n",
       " 'https://www.kickstarter.com/projects/56963604/new-drag-n-drop-mobile-app-creator?ref=discovery_category_newest',\n",
       " 'https://www.kickstarter.com/projects/2072622162/ledpedal-expression-and-volume-pedals-and-optional?ref=discovery_category_newest',\n",
       " 'https://www.kickstarter.com/projects/644361631/travel-go-with-me?ref=discovery_category_newest',\n",
       " 'https://www.kickstarter.com/projects/1219515610/strolling-earth-travel-advice-for-serious-traveler?ref=discovery_category_newest',\n",
       " 'https://www.kickstarter.com/projects/745580871/build-it-all-starter-kit-interactive-circuitry-for-0?ref=discovery_category_newest',\n",
       " 'https://www.kickstarter.com/projects/1189140389/inspiring-unforgettable-vacations?ref=discovery_category_newest',\n",
       " 'https://www.kickstarter.com/projects/436831324/on-demand-filament-extrusion-machine?ref=discovery_category_newest',\n",
       " 'https://www.kickstarter.com/projects/1662021259/make-your-own-cyrcle-phone?ref=discovery_category_newest',\n",
       " 'https://www.kickstarter.com/projects/1620958372/ohsm-occupational-health-management-software?ref=discovery_category_newest',\n",
       " 'https://www.kickstarter.com/projects/771069161/life-management?ref=discovery_category_newest',\n",
       " 'https://www.kickstarter.com/projects/443292702/quartz-bottle?ref=discovery_category_newest',\n",
       " 'https://www.kickstarter.com/projects/1527087401/e-commerce-home-design?ref=discovery_category_newest',\n",
       " 'https://www.kickstarter.com/projects/842479032/olarm-the-smartest-home-security-system?ref=discovery_category_newest',\n",
       " 'https://www.kickstarter.com/projects/389591767/handyman?ref=discovery_category_newest',\n",
       " 'https://www.kickstarter.com/projects/2019084484/datut-a-different-social-networking-website?ref=discovery_category_newest',\n",
       " 'https://www.kickstarter.com/projects/650414435/shootme-app?ref=discovery_category_newest',\n",
       " 'https://www.kickstarter.com/projects/1159182682/your-gap-for-automotive-help?ref=discovery_category_newest',\n",
       " 'https://www.kickstarter.com/projects/explorerslikeus/life-environments-refresh-your-day-mother-natures?ref=discovery_category_newest',\n",
       " 'https://www.kickstarter.com/projects/raylier/the-first-luminous-jacket-for-bikers?ref=discovery_category_newest',\n",
       " 'https://www.kickstarter.com/projects/35410622/ezblock-pi-the-ultimate-companion-board-for-rpi-projects?ref=discovery_category_newest',\n",
       " 'https://www.kickstarter.com/projects/danceapp/dance-box-mobile-development?ref=discovery_category_newest',\n",
       " 'https://www.kickstarter.com/projects/1601600246/the-pixel3d-3d-printer?ref=discovery_category_newest',\n",
       " 'https://www.kickstarter.com/projects/1297633716/lost-pet-rescue-australia-online?ref=discovery_category_newest',\n",
       " 'https://www.kickstarter.com/projects/nombiss/intelli-the-smartest-iphone-screen-protector?ref=discovery_category_newest',\n",
       " 'https://www.kickstarter.com/projects/xiki/xikihub-the-social-command-line?ref=discovery_category_newest',\n",
       " 'https://www.kickstarter.com/projects/1009796908/polco-a-digital-platform-for-better-civic-communic?ref=discovery_category_newest',\n",
       " 'https://www.kickstarter.com/projects/1271759848/revolver-internet-tv-remote-control-for-iphone?ref=discovery_category_newest',\n",
       " 'https://www.kickstarter.com/projects/1441152315/tutoring-app?ref=discovery_category_newest',\n",
       " 'https://www.kickstarter.com/projects/283588664/virditioncom?ref=discovery_category_newest',\n",
       " 'https://www.kickstarter.com/projects/172204344/the-arduino-compatible-42-digit-spi-keypad-matrix?ref=discovery_category_newest',\n",
       " 'https://www.kickstarter.com/projects/digitaldreamlabs/puzzlets-math-and-art-game-manufacturing-app-enabl?ref=discovery_category_newest',\n",
       " 'https://www.kickstarter.com/projects/1178334417/the-belt-box?ref=discovery_category_newest',\n",
       " 'https://www.kickstarter.com/projects/1680333871/make-100-musiccloth-silhouette-portrait?ref=discovery_category_newest',\n",
       " 'https://www.kickstarter.com/projects/1990779479/c-stand-smart-electroluminescent-cable-0?ref=discovery_category_newest',\n",
       " 'https://www.kickstarter.com/projects/1827432653/incurator-zipper-bag-hanger-0?ref=discovery_category_newest',\n",
       " 'https://www.kickstarter.com/projects/marcusvaughn08/shoppers-assistant?ref=discovery_category_newest',\n",
       " 'https://www.kickstarter.com/projects/teamcellrobot/cellrobot-hundreds-of-modular-robots-in-one?ref=discovery_category_newest',\n",
       " 'https://www.kickstarter.com/projects/676525852/day-off-travel-app-to-help-people-find-places-easi?ref=discovery_category_newest',\n",
       " 'https://www.kickstarter.com/projects/modernambitionz/hands-on-w-microsoft-hololens-workshop?ref=discovery_category_newest',\n",
       " 'https://www.kickstarter.com/projects/1011495799/fruit-tree-orchard-and-veggie-garden-planner-mappe?ref=discovery_category_newest',\n",
       " 'https://www.kickstarter.com/projects/paqmask/paq-mask-relaunch?ref=discovery_category_newest',\n",
       " 'https://www.kickstarter.com/projects/365252584/the-tesla-board?ref=discovery_category_newest',\n",
       " 'https://www.kickstarter.com/projects/1183902919/ipen-worlds-first-flash-drive-pen-with-lightning-c?ref=discovery_category_newest',\n",
       " 'https://www.kickstarter.com/projects/349880250/ledtwee-v1-a-new-way-to-test-your-led?ref=discovery_category_newest',\n",
       " 'https://www.kickstarter.com/projects/1088576052/uberzon-discount-deals-along-the-way?ref=discovery_category_newest',\n",
       " 'https://www.kickstarter.com/projects/electrodacus/digital-mppt-and-solar-bms-for-a-net-zero-energy-h?ref=discovery_category_newest',\n",
       " 'https://www.kickstarter.com/projects/1968454362/drone-fishing-system?ref=discovery_category_newest',\n",
       " 'https://www.kickstarter.com/projects/790888388/spryng?ref=discovery_category_newest',\n",
       " 'https://www.kickstarter.com/projects/925179884/whatelfe?ref=discovery_category_newest',\n",
       " 'https://www.kickstarter.com/projects/135120277/360-kiteboarding?ref=discovery_category_newest',\n",
       " 'https://www.kickstarter.com/projects/189591724/store-wide-100-watt-flashlight?ref=discovery_category_newest',\n",
       " 'https://www.kickstarter.com/projects/1043851263/duud-app-0?ref=discovery_category_newest',\n",
       " 'https://www.kickstarter.com/projects/1688044891/blind-cord-safety-sliders?ref=discovery_category_newest',\n",
       " ...]"
      ]
     },
     "execution_count": 239,
     "metadata": {},
     "output_type": "execute_result"
    }
   ],
   "source": [
    "list(csv_table[csv_table[\"HasDescription\"] == 0][\"url\"])"
   ]
  },
  {
   "cell_type": "markdown",
   "metadata": {},
   "source": [
    "## JSON"
   ]
  },
  {
   "cell_type": "code",
   "execution_count": 5,
   "metadata": {
    "ExecuteTime": {
     "end_time": "2019-12-07T08:15:31.086747Z",
     "start_time": "2019-12-07T08:15:31.084509Z"
    }
   },
   "outputs": [],
   "source": [
    "from collections import Counter"
   ]
  },
  {
   "cell_type": "code",
   "execution_count": 2,
   "metadata": {
    "ExecuteTime": {
     "end_time": "2019-12-07T08:14:17.963484Z",
     "start_time": "2019-12-07T08:14:17.787825Z"
    }
   },
   "outputs": [],
   "source": [
    "data = []\n",
    "with open(\"Analysis/Kickstarter_Tech.json\", \"r\") as json_file:\n",
    "    for line in json_file:\n",
    "        data.append(json.loads(line))\n",
    "\n",
    "df = pd.DataFrame([list(ele.values()) for ele in data], columns = list(data[0].keys()))"
   ]
  },
  {
   "cell_type": "code",
   "execution_count": 3,
   "metadata": {
    "ExecuteTime": {
     "end_time": "2019-12-07T08:14:19.208465Z",
     "start_time": "2019-12-07T08:14:19.192993Z"
    }
   },
   "outputs": [
    {
     "data": {
      "text/html": [
       "<div>\n",
       "<style scoped>\n",
       "    .dataframe tbody tr th:only-of-type {\n",
       "        vertical-align: middle;\n",
       "    }\n",
       "\n",
       "    .dataframe tbody tr th {\n",
       "        vertical-align: top;\n",
       "    }\n",
       "\n",
       "    .dataframe thead th {\n",
       "        text-align: right;\n",
       "    }\n",
       "</style>\n",
       "<table border=\"1\" class=\"dataframe\">\n",
       "  <thead>\n",
       "    <tr style=\"text-align: right;\">\n",
       "      <th></th>\n",
       "      <th>backers_count</th>\n",
       "      <th>blurb</th>\n",
       "      <th>converted_pledged_amount</th>\n",
       "      <th>country</th>\n",
       "      <th>created_at</th>\n",
       "      <th>currency</th>\n",
       "      <th>deadline</th>\n",
       "      <th>goal</th>\n",
       "      <th>id</th>\n",
       "      <th>launched_at</th>\n",
       "      <th>name</th>\n",
       "      <th>staff_pick</th>\n",
       "      <th>state</th>\n",
       "      <th>usd_pledged</th>\n",
       "      <th>mainCategory</th>\n",
       "      <th>subCategory</th>\n",
       "      <th>creatorID</th>\n",
       "      <th>url</th>\n",
       "    </tr>\n",
       "  </thead>\n",
       "  <tbody>\n",
       "    <tr>\n",
       "      <th>0</th>\n",
       "      <td>2</td>\n",
       "      <td>We want that in 'shareit.' You can share every...</td>\n",
       "      <td>37</td>\n",
       "      <td>ES</td>\n",
       "      <td>2018-02-22</td>\n",
       "      <td>EUR</td>\n",
       "      <td>2018-05-05</td>\n",
       "      <td>20000.0</td>\n",
       "      <td>2381452</td>\n",
       "      <td>2018-03-21</td>\n",
       "      <td>shareit. - Share. Find. Live. Do everything.</td>\n",
       "      <td>0</td>\n",
       "      <td>failed</td>\n",
       "      <td>38.27084912</td>\n",
       "      <td>technology</td>\n",
       "      <td>Apps</td>\n",
       "      <td>925162838</td>\n",
       "      <td>https://www.kickstarter.com/projects/925162838...</td>\n",
       "    </tr>\n",
       "    <tr>\n",
       "      <th>1</th>\n",
       "      <td>0</td>\n",
       "      <td>infrastructure for organizing, competing-in, a...</td>\n",
       "      <td>0</td>\n",
       "      <td>US</td>\n",
       "      <td>2017-07-28</td>\n",
       "      <td>USD</td>\n",
       "      <td>2017-08-27</td>\n",
       "      <td>5000.0</td>\n",
       "      <td>58029739</td>\n",
       "      <td>2017-07-28</td>\n",
       "      <td>Online contest for baked goods</td>\n",
       "      <td>0</td>\n",
       "      <td>failed</td>\n",
       "      <td>0.0</td>\n",
       "      <td>technology</td>\n",
       "      <td>Web</td>\n",
       "      <td>1790458719</td>\n",
       "      <td>https://www.kickstarter.com/projects/getfreshb...</td>\n",
       "    </tr>\n",
       "  </tbody>\n",
       "</table>\n",
       "</div>"
      ],
      "text/plain": [
       "   backers_count                                              blurb  \\\n",
       "0              2  We want that in 'shareit.' You can share every...   \n",
       "1              0  infrastructure for organizing, competing-in, a...   \n",
       "\n",
       "   converted_pledged_amount country  created_at currency    deadline     goal  \\\n",
       "0                        37      ES  2018-02-22      EUR  2018-05-05  20000.0   \n",
       "1                         0      US  2017-07-28      USD  2017-08-27   5000.0   \n",
       "\n",
       "         id launched_at                                          name  \\\n",
       "0   2381452  2018-03-21  shareit. - Share. Find. Live. Do everything.   \n",
       "1  58029739  2017-07-28                Online contest for baked goods   \n",
       "\n",
       "   staff_pick   state  usd_pledged mainCategory subCategory   creatorID  \\\n",
       "0           0  failed  38.27084912   technology        Apps   925162838   \n",
       "1           0  failed          0.0   technology         Web  1790458719   \n",
       "\n",
       "                                                 url  \n",
       "0  https://www.kickstarter.com/projects/925162838...  \n",
       "1  https://www.kickstarter.com/projects/getfreshb...  "
      ]
     },
     "execution_count": 3,
     "metadata": {},
     "output_type": "execute_result"
    }
   ],
   "source": [
    "df.head(2)"
   ]
  },
  {
   "cell_type": "code",
   "execution_count": 19,
   "metadata": {
    "ExecuteTime": {
     "end_time": "2019-12-07T05:50:15.641572Z",
     "start_time": "2019-12-07T05:50:15.635328Z"
    }
   },
   "outputs": [
    {
     "data": {
      "text/plain": [
       "dict_items([('ES', 290), ('US', 6757), ('DE', 577), ('CA', 680), ('MX', 238), ('FR', 379), ('JP', 63), ('NL', 202), ('AT', 94), ('GB', 976), ('IE', 65), ('IT', 409), ('AU', 391), ('SE', 79), ('NO', 45), ('CH', 144), ('SG', 109), ('HK', 324), ('NZ', 72), ('BE', 63), ('DK', 68), ('LU', 7)])"
      ]
     },
     "execution_count": 19,
     "metadata": {},
     "output_type": "execute_result"
    }
   ],
   "source": [
    "country_count = Counter(df[\"country\"]).items()\n",
    "country_count"
   ]
  },
  {
   "cell_type": "code",
   "execution_count": 22,
   "metadata": {
    "ExecuteTime": {
     "end_time": "2019-12-07T05:51:46.936470Z",
     "start_time": "2019-12-07T05:51:46.934469Z"
    }
   },
   "outputs": [],
   "source": [
    "#plt.pie([val for name, val in country_count], labels = [name for name, val in country_count])"
   ]
  },
  {
   "cell_type": "code",
   "execution_count": 23,
   "metadata": {
    "ExecuteTime": {
     "end_time": "2019-12-07T05:52:17.980343Z",
     "start_time": "2019-12-07T05:52:17.973467Z"
    }
   },
   "outputs": [
    {
     "data": {
      "text/plain": [
       "0.5615857712765957"
      ]
     },
     "execution_count": 23,
     "metadata": {},
     "output_type": "execute_result"
    }
   ],
   "source": [
    "sum(df[\"country\"] == \"US\") / len(df[\"country\"])"
   ]
  },
  {
   "cell_type": "code",
   "execution_count": 6,
   "metadata": {
    "ExecuteTime": {
     "end_time": "2019-12-07T08:15:34.887676Z",
     "start_time": "2019-12-07T08:15:34.789096Z"
    }
   },
   "outputs": [
    {
     "data": {
      "text/plain": [
       "([<matplotlib.patches.Wedge at 0x7fb5d3a31940>,\n",
       "  <matplotlib.patches.Wedge at 0x7fb5d3a31e80>,\n",
       "  <matplotlib.patches.Wedge at 0x7fb5d3843390>,\n",
       "  <matplotlib.patches.Wedge at 0x7fb5d3843860>,\n",
       "  <matplotlib.patches.Wedge at 0x7fb5d3843d30>,\n",
       "  <matplotlib.patches.Wedge at 0x7fb5d384d240>,\n",
       "  <matplotlib.patches.Wedge at 0x7fb5d384d710>,\n",
       "  <matplotlib.patches.Wedge at 0x7fb5d384dbe0>,\n",
       "  <matplotlib.patches.Wedge at 0x7fb5d38550f0>,\n",
       "  <matplotlib.patches.Wedge at 0x7fb5d38555c0>,\n",
       "  <matplotlib.patches.Wedge at 0x7fb5d3813da0>,\n",
       "  <matplotlib.patches.Wedge at 0x7fb5d3855f28>,\n",
       "  <matplotlib.patches.Wedge at 0x7fb5d385f438>,\n",
       "  <matplotlib.patches.Wedge at 0x7fb5d385f908>,\n",
       "  <matplotlib.patches.Wedge at 0x7fb5d385fdd8>,\n",
       "  <matplotlib.patches.Wedge at 0x7fb5d38682e8>],\n",
       " [Text(0.9435014710002994, 0.5655130186125439, 'Apps'),\n",
       "  Text(0.07433160264095319, 1.0974856777420048, 'Web'),\n",
       "  Text(-0.6821755839764873, 0.8629232136327885, 'Hardware'),\n",
       "  Text(-1.0948707659886423, 0.10610375009133305, 'Gadgets'),\n",
       "  Text(-0.976138910972696, -0.507102382645792, 'Camera Equipment'),\n",
       "  Text(-0.8240500425035336, -0.7286573457050471, 'DIY Electronics'),\n",
       "  Text(-0.4747197967805642, -0.9922908417115518, 'Wearables'),\n",
       "  Text(-0.1335114430630078, -1.0918675261089292, 'Technology'),\n",
       "  Text(0.1203880055430755, -1.0933923029367643, 'Sound'),\n",
       "  Text(0.58290577726546, -0.9328562884123953, 'Software'),\n",
       "  Text(0.900004323136293, -0.6324493800581857, '3D Printing'),\n",
       "  Text(0.9795589399057472, -0.5004640678917209, 'Fabrication Tools'),\n",
       "  Text(1.0368544973113285, -0.36733193627191296, 'Robots'),\n",
       "  Text(1.0742698353068942, -0.23652551860147936, 'Makerspaces'),\n",
       "  Text(1.090223481155598, -0.14633099855112677, 'Space Exploration'),\n",
       "  Text(1.099003914662768, -0.046801661892623136, 'Flight')])"
      ]
     },
     "execution_count": 6,
     "metadata": {},
     "output_type": "execute_result"
    },
    {
     "data": {
      "image/png": "[encoded data removed]",
      "text/plain": [
       "<Figure size 432x288 with 1 Axes>"
      ]
     },
     "metadata": {},
     "output_type": "display_data"
    }
   ],
   "source": [
    "sub_count = Counter(df[\"subCategory\"]).items()\n",
    "plt.pie([val for name, val in sub_count], labels = [name for name, val in sub_count])"
   ]
  },
  {
   "cell_type": "code",
   "execution_count": 7,
   "metadata": {
    "ExecuteTime": {
     "end_time": "2019-12-07T08:23:46.071572Z",
     "start_time": "2019-12-07T08:23:46.068371Z"
    }
   },
   "outputs": [
    {
     "data": {
      "text/plain": [
       "dict_items([('Apps', 2068), ('Web', 1621), ('Hardware', 1200), ('Gadgets', 1884), ('Camera Equipment', 321), ('DIY Electronics', 617), ('Wearables', 917), ('Technology', 326), ('Sound', 560), ('Software', 1159), ('3D Printing', 372), ('Fabrication Tools', 165), ('Robots', 340), ('Makerspaces', 134), ('Space Exploration', 185), ('Flight', 163)])"
      ]
     },
     "execution_count": 7,
     "metadata": {},
     "output_type": "execute_result"
    }
   ],
   "source": [
    "sub_count"
   ]
  },
  {
   "cell_type": "markdown",
   "metadata": {},
   "source": [
    "### Month"
   ]
  },
  {
   "cell_type": "code",
   "execution_count": 10,
   "metadata": {
    "ExecuteTime": {
     "end_time": "2019-12-07T08:54:10.030313Z",
     "start_time": "2019-12-07T08:54:10.019218Z"
    }
   },
   "outputs": [],
   "source": [
    "df[\"month\"] = df[\"launched_at\"].apply(lambda x: x.split(\"-\")[1])"
   ]
  },
  {
   "cell_type": "code",
   "execution_count": 15,
   "metadata": {
    "ExecuteTime": {
     "end_time": "2019-12-07T08:56:21.505093Z",
     "start_time": "2019-12-07T08:56:21.364394Z"
    }
   },
   "outputs": [
    {
     "data": {
      "text/plain": [
       "<matplotlib.axes._subplots.AxesSubplot at 0x7fb5d3922438>"
      ]
     },
     "execution_count": 15,
     "metadata": {},
     "output_type": "execute_result"
    },
    {
     "data": {
      "image/png": "[encoded data removed]",
      "text/plain": [
       "<Figure size 432x288 with 1 Axes>"
      ]
     },
     "metadata": {
      "needs_background": "light"
     },
     "output_type": "display_data"
    }
   ],
   "source": [
    "df[\"month\"].value_counts().plot(kind='barh', )"
   ]
  },
  {
   "cell_type": "markdown",
   "metadata": {},
   "source": [
    "### Goal"
   ]
  },
  {
   "cell_type": "code",
   "execution_count": 19,
   "metadata": {
    "ExecuteTime": {
     "end_time": "2019-12-07T09:12:03.888961Z",
     "start_time": "2019-12-07T09:12:03.701190Z"
    }
   },
   "outputs": [
    {
     "data": {
      "text/plain": [
       "(array([1.1972e+04, 3.3000e+01, 1.0000e+01, 1.0000e+00, 8.0000e+00,\n",
       "        2.0000e+00, 1.0000e+00, 2.0000e+00, 0.0000e+00, 1.0000e+00,\n",
       "        0.0000e+00, 0.0000e+00, 0.0000e+00, 0.0000e+00, 0.0000e+00,\n",
       "        0.0000e+00, 0.0000e+00, 0.0000e+00, 0.0000e+00, 1.0000e+00,\n",
       "        0.0000e+00, 0.0000e+00, 0.0000e+00, 0.0000e+00, 0.0000e+00,\n",
       "        0.0000e+00, 0.0000e+00, 0.0000e+00, 0.0000e+00, 0.0000e+00,\n",
       "        0.0000e+00, 0.0000e+00, 0.0000e+00, 0.0000e+00, 0.0000e+00,\n",
       "        0.0000e+00, 0.0000e+00, 0.0000e+00, 0.0000e+00, 0.0000e+00,\n",
       "        0.0000e+00, 0.0000e+00, 0.0000e+00, 0.0000e+00, 0.0000e+00,\n",
       "        0.0000e+00, 0.0000e+00, 0.0000e+00, 0.0000e+00, 1.0000e+00]),\n",
       " array([1.00000000e+00, 2.00000098e+06, 4.00000096e+06, 6.00000094e+06,\n",
       "        8.00000092e+06, 1.00000009e+07, 1.20000009e+07, 1.40000009e+07,\n",
       "        1.60000008e+07, 1.80000008e+07, 2.00000008e+07, 2.20000008e+07,\n",
       "        2.40000008e+07, 2.60000007e+07, 2.80000007e+07, 3.00000007e+07,\n",
       "        3.20000007e+07, 3.40000007e+07, 3.60000006e+07, 3.80000006e+07,\n",
       "        4.00000006e+07, 4.20000006e+07, 4.40000006e+07, 4.60000005e+07,\n",
       "        4.80000005e+07, 5.00000005e+07, 5.20000005e+07, 5.40000005e+07,\n",
       "        5.60000004e+07, 5.80000004e+07, 6.00000004e+07, 6.20000004e+07,\n",
       "        6.40000004e+07, 6.60000003e+07, 6.80000003e+07, 7.00000003e+07,\n",
       "        7.20000003e+07, 7.40000003e+07, 7.60000002e+07, 7.80000002e+07,\n",
       "        8.00000002e+07, 8.20000002e+07, 8.40000002e+07, 8.60000001e+07,\n",
       "        8.80000001e+07, 9.00000001e+07, 9.20000001e+07, 9.40000001e+07,\n",
       "        9.60000000e+07, 9.80000000e+07, 1.00000000e+08]),\n",
       " <a list of 50 Patch objects>)"
      ]
     },
     "execution_count": 19,
     "metadata": {},
     "output_type": "execute_result"
    },
    {
     "data": {
      "image/png": "[encoded data removed]",
      "text/plain": [
       "<Figure size 432x288 with 1 Axes>"
      ]
     },
     "metadata": {
      "needs_background": "light"
     },
     "output_type": "display_data"
    }
   ],
   "source": [
    "plt.hist(df[\"goal\"], bins = 50)"
   ]
  },
  {
   "cell_type": "code",
   "execution_count": 21,
   "metadata": {
    "ExecuteTime": {
     "end_time": "2019-12-07T09:13:23.156771Z",
     "start_time": "2019-12-07T09:13:23.148997Z"
    }
   },
   "outputs": [
    {
     "data": {
      "text/plain": [
       "count    1.203200e+04\n",
       "mean     9.448733e+04\n",
       "std      1.091701e+06\n",
       "min      1.000000e+00\n",
       "25%      5.500000e+03\n",
       "50%      2.000000e+04\n",
       "75%      5.000000e+04\n",
       "max      1.000000e+08\n",
       "Name: goal, dtype: float64"
      ]
     },
     "execution_count": 21,
     "metadata": {},
     "output_type": "execute_result"
    }
   ],
   "source": [
    "df[\"goal\"].describe()"
   ]
  },
  {
   "cell_type": "code",
   "execution_count": 53,
   "metadata": {
    "ExecuteTime": {
     "end_time": "2019-12-07T09:30:33.199938Z",
     "start_time": "2019-12-07T09:30:33.069136Z"
    }
   },
   "outputs": [
    {
     "data": {
      "text/plain": [
       "(array([437.,  32.,  10.,   2.,   2.,   8.,   0.,   2.,   1.,   1.]),\n",
       " array([  252100. ,  2113461.5,  3974823. ,  5836184.5,  7697546. ,\n",
       "         9558907.5, 11420269. , 13281630.5, 15142992. , 17004353.5,\n",
       "        18865715. ]),\n",
       " <a list of 10 Patch objects>)"
      ]
     },
     "execution_count": 53,
     "metadata": {},
     "output_type": "execute_result"
    },
    {
     "data": {
      "image/png": "[encoded data removed]",
      "text/plain": [
       "<Figure size 432x288 with 1 Axes>"
      ]
     },
     "metadata": {
      "needs_background": "light"
     },
     "output_type": "display_data"
    }
   ],
   "source": [
    "plt.hist(df[(df[\"goal\"] > 250000) & (df[\"goal\"] < 30000000)][\"goal\"])"
   ]
  },
  {
   "cell_type": "code",
   "execution_count": 38,
   "metadata": {
    "ExecuteTime": {
     "end_time": "2019-12-07T09:25:15.593700Z",
     "start_time": "2019-12-07T09:25:15.455397Z"
    }
   },
   "outputs": [
    {
     "data": {
      "text/plain": [
       "(array([ 23., 164.,  78.,  88., 153., 124.,  35.,  46.,  26.,  20.]),\n",
       " array([55500. , 59949.9, 64399.8, 68849.7, 73299.6, 77749.5, 82199.4,\n",
       "        86649.3, 91099.2, 95549.1, 99999. ]),\n",
       " <a list of 10 Patch objects>)"
      ]
     },
     "execution_count": 38,
     "metadata": {},
     "output_type": "execute_result"
    },
    {
     "data": {
      "image/png": "[encoded data removed]",
      "text/plain": [
       "<Figure size 432x288 with 1 Axes>"
      ]
     },
     "metadata": {
      "needs_background": "light"
     },
     "output_type": "display_data"
    }
   ],
   "source": [
    "plt.hist(df[(df[\"goal\"] > 55000) & (df[\"goal\"] < 100000)][\"goal\"])"
   ]
  },
  {
   "cell_type": "code",
   "execution_count": 33,
   "metadata": {
    "ExecuteTime": {
     "end_time": "2019-12-07T09:19:43.908883Z",
     "start_time": "2019-12-07T09:19:43.776485Z"
    }
   },
   "outputs": [
    {
     "data": {
      "text/plain": [
       "(array([ 78., 174.,  71.,  97., 159., 125.,  36.,  46.,  27.,  20.]),\n",
       " array([50700. , 55629.9, 60559.8, 65489.7, 70419.6, 75349.5, 80279.4,\n",
       "        85209.3, 90139.2, 95069.1, 99999. ]),\n",
       " <a list of 10 Patch objects>)"
      ]
     },
     "execution_count": 33,
     "metadata": {},
     "output_type": "execute_result"
    },
    {
     "data": {
      "image/png": "[encoded data removed]",
      "text/plain": [
       "<Figure size 432x288 with 1 Axes>"
      ]
     },
     "metadata": {
      "needs_background": "light"
     },
     "output_type": "display_data"
    }
   ],
   "source": [
    "plt.hist(df[(df[\"goal\"] > 5*10**4) & (df[\"goal\"] < 10**5)][\"goal\"])"
   ]
  },
  {
   "cell_type": "code",
   "execution_count": null,
   "metadata": {},
   "outputs": [],
   "source": []
  }
 ],
 "metadata": {
  "kernelspec": {
   "display_name": "Python 3",
   "language": "python",
   "name": "python3"
  },
  "language_info": {
   "codemirror_mode": {
    "name": "ipython",
    "version": 3
   },
   "file_extension": ".py",
   "mimetype": "text/x-python",
   "name": "python",
   "nbconvert_exporter": "python",
   "pygments_lexer": "ipython3",
   "version": "3.7.3"
  },
  "latex_envs": {
   "LaTeX_envs_menu_present": true,
   "autoclose": false,
   "autocomplete": true,
   "bibliofile": "biblio.bib",
   "cite_by": "apalike",
   "current_citInitial": 1,
   "eqLabelWithNumbers": true,
   "eqNumInitial": 1,
   "hotkeys": {
    "equation": "Ctrl-E",
    "itemize": "Ctrl-I"
   },
   "labels_anchors": false,
   "latex_user_defs": false,
   "report_style_numbering": false,
   "user_envs_cfg": false
  },
  "toc": {
   "base_numbering": 1,
   "nav_menu": {},
   "number_sections": true,
   "sideBar": true,
   "skip_h1_title": false,
   "title_cell": "Table of Contents",
   "title_sidebar": "Contents",
   "toc_cell": false,
   "toc_position": {},
   "toc_section_display": true,
   "toc_window_display": false
  },
  "varInspector": {
   "cols": {
    "lenName": 16,
    "lenType": 16,
    "lenVar": 40
   },
   "kernels_config": {
    "python": {
     "delete_cmd_postfix": "",
     "delete_cmd_prefix": "del ",
     "library": "var_list.py",
     "varRefreshCmd": "print(var_dic_list())"
    },
    "r": {
     "delete_cmd_postfix": ") ",
     "delete_cmd_prefix": "rm(",
     "library": "var_list.r",
     "varRefreshCmd": "cat(var_dic_list()) "
    }
   },
   "types_to_exclude": [
    "module",
    "function",
    "builtin_function_or_method",
    "instance",
    "_Feature"
   ],
   "window_display": false
  }
 },
 "nbformat": 4,
 "nbformat_minor": 2
}
